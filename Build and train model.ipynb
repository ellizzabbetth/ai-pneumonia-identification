{
 "cells": [
  {
   "cell_type": "markdown",
   "metadata": {},
   "source": [
    "## Skeleton Code\n",
    "\n",
    "The code below provides a skeleton for the model building & training component of your project. You can add/remove/build on code however you see fit, this is meant as a starting point."
   ]
  },
  {
   "cell_type": "code",
   "execution_count": 1,
   "metadata": {},
   "outputs": [
    {
     "name": "stdout",
     "output_type": "stream",
     "text": [
      "[name: \"/device:CPU:0\"\n",
      "device_type: \"CPU\"\n",
      "memory_limit: 268435456\n",
      "locality {\n",
      "}\n",
      "incarnation: 2961116539073527094\n",
      ", name: \"/device:XLA_CPU:0\"\n",
      "device_type: \"XLA_CPU\"\n",
      "memory_limit: 17179869184\n",
      "locality {\n",
      "}\n",
      "incarnation: 14380339755645552714\n",
      "physical_device_desc: \"device: XLA_CPU device\"\n",
      ", name: \"/device:GPU:0\"\n",
      "device_type: \"GPU\"\n",
      "memory_limit: 14951920436\n",
      "locality {\n",
      "  bus_id: 1\n",
      "  links {\n",
      "  }\n",
      "}\n",
      "incarnation: 10995843308441772216\n",
      "physical_device_desc: \"device: 0, name: Tesla T4, pci bus id: 0000:00:04.0, compute capability: 7.5\"\n",
      ", name: \"/device:XLA_GPU:0\"\n",
      "device_type: \"XLA_GPU\"\n",
      "memory_limit: 17179869184\n",
      "locality {\n",
      "}\n",
      "incarnation: 833044112085892195\n",
      "physical_device_desc: \"device: XLA_GPU device\"\n",
      "]\n"
     ]
    },
    {
     "name": "stderr",
     "output_type": "stream",
     "text": [
      "Using TensorFlow backend.\n"
     ]
    }
   ],
   "source": [
    "import numpy as np # linear algebra\n",
    "import pandas as pd # data processing, CSV file I/O (e.g. pd.read_csv)\n",
    "import os\n",
    "from glob import glob\n",
    "%matplotlib inline\n",
    "import matplotlib.pyplot as plt\n",
    "\n",
    "##Import any other stats/DL/ML packages you may need here. E.g. Keras, scikit-learn, etc.\n",
    "import seaborn as sns\n",
    "from itertools import chain\n",
    "from skimage.io import imread,imshow\n",
    "import matplotlib.image as mpimg #read png files\n",
    "from scipy.ndimage import gaussian_filter\n",
    "import scipy\n",
    "from random import sample\n",
    "import sklearn.model_selection as skl\n",
    "from tensorflow.keras.preprocessing.image import ImageDataGenerator\n",
    "from tensorflow.keras.layers import GlobalAveragePooling2D, Dense, Dropout,Flatten,Conv2D,MaxPooling2D\n",
    "from tensorflow.keras.models import Sequential, Model\n",
    "from tensorflow.keras.applications.vgg16 import VGG16\n",
    "from tensorflow.keras.applications.resnet import ResNet50\n",
    "from tensorflow.keras.optimizers import Adam\n",
    "from tensorflow.keras.callbacks import ModelCheckpoint, LearningRateScheduler,EarlyStopping, ReduceLROnPlateau\n",
    "from sklearn.preprocessing import binarize\n",
    "from sklearn.metrics import roc_curve, auc, roc_auc_score, precision_recall_curve, f1_score, average_precision_score, confusion_matrix\n",
    "\n",
    "from tensorflow.python.client import device_lib\n",
    "print(device_lib.list_local_devices())\n",
    "\n",
    "from keras.preprocessing.image import ImageDataGenerator\n",
    "from keras.layers import GlobalAveragePooling2D, Dense, Dropout, Flatten, Conv2D, MaxPooling2D\n",
    "from keras.models import Sequential, Model\n",
    "from keras.applications.vgg16 import VGG16\n",
    "from keras.optimizers import Adam\n",
    "from keras.callbacks import ModelCheckpoint, LearningRateScheduler, EarlyStopping, ReduceLROnPlateau"
   ]
  },
  {
   "cell_type": "code",
   "execution_count": 2,
   "metadata": {},
   "outputs": [
    {
     "name": "stdout",
     "output_type": "stream",
     "text": [
      "[name: \"/device:CPU:0\"\n",
      "device_type: \"CPU\"\n",
      "memory_limit: 268435456\n",
      "locality {\n",
      "}\n",
      "incarnation: 16125337647675158533\n",
      ", name: \"/device:XLA_CPU:0\"\n",
      "device_type: \"XLA_CPU\"\n",
      "memory_limit: 17179869184\n",
      "locality {\n",
      "}\n",
      "incarnation: 9068822844688785790\n",
      "physical_device_desc: \"device: XLA_CPU device\"\n",
      ", name: \"/device:GPU:0\"\n",
      "device_type: \"GPU\"\n",
      "memory_limit: 14951920436\n",
      "locality {\n",
      "  bus_id: 1\n",
      "  links {\n",
      "  }\n",
      "}\n",
      "incarnation: 612378701354255588\n",
      "physical_device_desc: \"device: 0, name: Tesla T4, pci bus id: 0000:00:04.0, compute capability: 7.5\"\n",
      ", name: \"/device:XLA_GPU:0\"\n",
      "device_type: \"XLA_GPU\"\n",
      "memory_limit: 17179869184\n",
      "locality {\n",
      "}\n",
      "incarnation: 13199711996300074933\n",
      "physical_device_desc: \"device: XLA_GPU device\"\n",
      "]\n"
     ]
    }
   ],
   "source": [
    "from tensorflow.python.client import device_lib\n",
    "print(device_lib.list_local_devices())"
   ]
  },
  {
   "cell_type": "code",
   "execution_count": 3,
   "metadata": {},
   "outputs": [
    {
     "name": "stdout",
     "output_type": "stream",
     "text": [
      "ls: cannot access '../p1_data': No such file or directory\r\n"
     ]
    }
   ],
   "source": [
    "! ls ../p1_data"
   ]
  },
  {
   "cell_type": "markdown",
   "metadata": {},
   "source": [
    "## Do some early processing of your metadata for easier model training:"
   ]
  },
  {
   "cell_type": "code",
   "execution_count": 4,
   "metadata": {
    "scrolled": true
   },
   "outputs": [
    {
     "name": "stdout",
     "output_type": "stream",
     "text": [
      "Scans found: 112120 , Total Headers 112120\n"
     ]
    },
    {
     "data": {
      "text/html": [
       "<div>\n",
       "<style scoped>\n",
       "    .dataframe tbody tr th:only-of-type {\n",
       "        vertical-align: middle;\n",
       "    }\n",
       "\n",
       "    .dataframe tbody tr th {\n",
       "        vertical-align: top;\n",
       "    }\n",
       "\n",
       "    .dataframe thead th {\n",
       "        text-align: right;\n",
       "    }\n",
       "</style>\n",
       "<table border=\"1\" class=\"dataframe\">\n",
       "  <thead>\n",
       "    <tr style=\"text-align: right;\">\n",
       "      <th></th>\n",
       "      <th>Image Index</th>\n",
       "      <th>Finding Labels</th>\n",
       "      <th>Follow-up #</th>\n",
       "      <th>Patient ID</th>\n",
       "      <th>Patient Age</th>\n",
       "      <th>Patient Gender</th>\n",
       "      <th>View Position</th>\n",
       "      <th>OriginalImage[Width</th>\n",
       "      <th>Height]</th>\n",
       "      <th>OriginalImagePixelSpacing[x</th>\n",
       "      <th>y]</th>\n",
       "      <th>Unnamed: 11</th>\n",
       "      <th>path</th>\n",
       "    </tr>\n",
       "  </thead>\n",
       "  <tbody>\n",
       "    <tr>\n",
       "      <th>61825</th>\n",
       "      <td>00015275_015.png</td>\n",
       "      <td>No Finding</td>\n",
       "      <td>15</td>\n",
       "      <td>15275</td>\n",
       "      <td>45</td>\n",
       "      <td>M</td>\n",
       "      <td>PA</td>\n",
       "      <td>2500</td>\n",
       "      <td>2048</td>\n",
       "      <td>0.168</td>\n",
       "      <td>0.168</td>\n",
       "      <td>NaN</td>\n",
       "      <td>/data/images_007/images/00015275_015.png</td>\n",
       "    </tr>\n",
       "    <tr>\n",
       "      <th>29802</th>\n",
       "      <td>00007748_000.png</td>\n",
       "      <td>Atelectasis|Infiltration</td>\n",
       "      <td>0</td>\n",
       "      <td>7748</td>\n",
       "      <td>69</td>\n",
       "      <td>F</td>\n",
       "      <td>PA</td>\n",
       "      <td>2500</td>\n",
       "      <td>2048</td>\n",
       "      <td>0.168</td>\n",
       "      <td>0.168</td>\n",
       "      <td>NaN</td>\n",
       "      <td>/data/images_004/images/00007748_000.png</td>\n",
       "    </tr>\n",
       "    <tr>\n",
       "      <th>111732</th>\n",
       "      <td>00030609_009.png</td>\n",
       "      <td>No Finding</td>\n",
       "      <td>9</td>\n",
       "      <td>30609</td>\n",
       "      <td>6</td>\n",
       "      <td>M</td>\n",
       "      <td>AP</td>\n",
       "      <td>3056</td>\n",
       "      <td>2544</td>\n",
       "      <td>0.139</td>\n",
       "      <td>0.139</td>\n",
       "      <td>NaN</td>\n",
       "      <td>/data/images_012/images/00030609_009.png</td>\n",
       "    </tr>\n",
       "  </tbody>\n",
       "</table>\n",
       "</div>"
      ],
      "text/plain": [
       "             Image Index            Finding Labels  Follow-up #  Patient ID  \\\n",
       "61825   00015275_015.png                No Finding           15       15275   \n",
       "29802   00007748_000.png  Atelectasis|Infiltration            0        7748   \n",
       "111732  00030609_009.png                No Finding            9       30609   \n",
       "\n",
       "        Patient Age Patient Gender View Position  OriginalImage[Width  \\\n",
       "61825            45              M            PA                 2500   \n",
       "29802            69              F            PA                 2500   \n",
       "111732            6              M            AP                 3056   \n",
       "\n",
       "        Height]  OriginalImagePixelSpacing[x     y]  Unnamed: 11  \\\n",
       "61825      2048                        0.168  0.168          NaN   \n",
       "29802      2048                        0.168  0.168          NaN   \n",
       "111732     2544                        0.139  0.139          NaN   \n",
       "\n",
       "                                            path  \n",
       "61825   /data/images_007/images/00015275_015.png  \n",
       "29802   /data/images_004/images/00007748_000.png  \n",
       "111732  /data/images_012/images/00030609_009.png  "
      ]
     },
     "execution_count": 4,
     "metadata": {},
     "output_type": "execute_result"
    }
   ],
   "source": [
    "## Below is some helper code to read all of your full image filepaths into a dataframe for easier manipulation\n",
    "## Load the NIH data to all_xray_df\n",
    "all_xray_df = pd.read_csv('/data/Data_Entry_2017.csv')\n",
    "all_image_paths = {os.path.basename(x): x for x in \n",
    "                   glob(os.path.join('/data','images*', '*', '*.png'))}\n",
    "print('Scans found:', len(all_image_paths), ', Total Headers', all_xray_df.shape[0])\n",
    "all_xray_df['path'] = all_xray_df['Image Index'].map(all_image_paths.get)\n",
    "\n",
    "pd.set_option('display.max_columns', None)\n",
    "all_xray_df.shape\n",
    "all_xray_df.sample(3)"
   ]
  },
  {
   "cell_type": "code",
   "execution_count": 5,
   "metadata": {},
   "outputs": [
    {
     "data": {
      "text/plain": [
       "0         /data/images_001/images/00000001_000.png\n",
       "1         /data/images_001/images/00000001_001.png\n",
       "2         /data/images_001/images/00000001_002.png\n",
       "3         /data/images_001/images/00000002_000.png\n",
       "4         /data/images_001/images/00000003_000.png\n",
       "                            ...                   \n",
       "112115    /data/images_012/images/00030801_001.png\n",
       "112116    /data/images_012/images/00030802_000.png\n",
       "112117    /data/images_012/images/00030803_000.png\n",
       "112118    /data/images_012/images/00030804_000.png\n",
       "112119    /data/images_012/images/00030805_000.png\n",
       "Name: path, Length: 112120, dtype: object"
      ]
     },
     "execution_count": 5,
     "metadata": {},
     "output_type": "execute_result"
    }
   ],
   "source": [
    "all_xray_df['path']"
   ]
  },
  {
   "cell_type": "code",
   "execution_count": 6,
   "metadata": {},
   "outputs": [
    {
     "name": "stdout",
     "output_type": "stream",
     "text": [
      "['Atelectasis', 'Cardiomegaly', 'Consolidation', 'Edema', 'Effusion', 'Emphysema', 'Fibrosis', 'Hernia', 'Infiltration', 'Mass', 'No Finding', 'Nodule', 'Pleural_Thickening', 'Pneumonia', 'Pneumothorax']\n"
     ]
    },
    {
     "data": {
      "text/html": [
       "<div>\n",
       "<style scoped>\n",
       "    .dataframe tbody tr th:only-of-type {\n",
       "        vertical-align: middle;\n",
       "    }\n",
       "\n",
       "    .dataframe tbody tr th {\n",
       "        vertical-align: top;\n",
       "    }\n",
       "\n",
       "    .dataframe thead th {\n",
       "        text-align: right;\n",
       "    }\n",
       "</style>\n",
       "<table border=\"1\" class=\"dataframe\">\n",
       "  <thead>\n",
       "    <tr style=\"text-align: right;\">\n",
       "      <th></th>\n",
       "      <th>Image Index</th>\n",
       "      <th>Finding Labels</th>\n",
       "      <th>Follow-up #</th>\n",
       "      <th>Patient ID</th>\n",
       "      <th>Patient Age</th>\n",
       "      <th>Patient Gender</th>\n",
       "      <th>View Position</th>\n",
       "      <th>OriginalImage[Width</th>\n",
       "      <th>Height]</th>\n",
       "      <th>OriginalImagePixelSpacing[x</th>\n",
       "      <th>y]</th>\n",
       "      <th>Unnamed: 11</th>\n",
       "      <th>path</th>\n",
       "      <th>Atelectasis</th>\n",
       "      <th>Cardiomegaly</th>\n",
       "      <th>Consolidation</th>\n",
       "      <th>Edema</th>\n",
       "      <th>Effusion</th>\n",
       "      <th>Emphysema</th>\n",
       "      <th>Fibrosis</th>\n",
       "      <th>Hernia</th>\n",
       "      <th>Infiltration</th>\n",
       "      <th>Mass</th>\n",
       "      <th>No Finding</th>\n",
       "      <th>Nodule</th>\n",
       "      <th>Pleural_Thickening</th>\n",
       "      <th>Pneumonia</th>\n",
       "      <th>Pneumothorax</th>\n",
       "    </tr>\n",
       "  </thead>\n",
       "  <tbody>\n",
       "    <tr>\n",
       "      <th>0</th>\n",
       "      <td>00000001_000.png</td>\n",
       "      <td>Cardiomegaly</td>\n",
       "      <td>0</td>\n",
       "      <td>1</td>\n",
       "      <td>58</td>\n",
       "      <td>M</td>\n",
       "      <td>PA</td>\n",
       "      <td>2682</td>\n",
       "      <td>2749</td>\n",
       "      <td>0.143</td>\n",
       "      <td>0.143</td>\n",
       "      <td>NaN</td>\n",
       "      <td>/data/images_001/images/00000001_000.png</td>\n",
       "      <td>0.0</td>\n",
       "      <td>1.0</td>\n",
       "      <td>0.0</td>\n",
       "      <td>0.0</td>\n",
       "      <td>0.0</td>\n",
       "      <td>0.0</td>\n",
       "      <td>0.0</td>\n",
       "      <td>0.0</td>\n",
       "      <td>0.0</td>\n",
       "      <td>0.0</td>\n",
       "      <td>0.0</td>\n",
       "      <td>0.0</td>\n",
       "      <td>0.0</td>\n",
       "      <td>0.0</td>\n",
       "      <td>0.0</td>\n",
       "    </tr>\n",
       "    <tr>\n",
       "      <th>1</th>\n",
       "      <td>00000001_001.png</td>\n",
       "      <td>Cardiomegaly|Emphysema</td>\n",
       "      <td>1</td>\n",
       "      <td>1</td>\n",
       "      <td>58</td>\n",
       "      <td>M</td>\n",
       "      <td>PA</td>\n",
       "      <td>2894</td>\n",
       "      <td>2729</td>\n",
       "      <td>0.143</td>\n",
       "      <td>0.143</td>\n",
       "      <td>NaN</td>\n",
       "      <td>/data/images_001/images/00000001_001.png</td>\n",
       "      <td>0.0</td>\n",
       "      <td>1.0</td>\n",
       "      <td>0.0</td>\n",
       "      <td>0.0</td>\n",
       "      <td>0.0</td>\n",
       "      <td>1.0</td>\n",
       "      <td>0.0</td>\n",
       "      <td>0.0</td>\n",
       "      <td>0.0</td>\n",
       "      <td>0.0</td>\n",
       "      <td>0.0</td>\n",
       "      <td>0.0</td>\n",
       "      <td>0.0</td>\n",
       "      <td>0.0</td>\n",
       "      <td>0.0</td>\n",
       "    </tr>\n",
       "    <tr>\n",
       "      <th>2</th>\n",
       "      <td>00000001_002.png</td>\n",
       "      <td>Cardiomegaly|Effusion</td>\n",
       "      <td>2</td>\n",
       "      <td>1</td>\n",
       "      <td>58</td>\n",
       "      <td>M</td>\n",
       "      <td>PA</td>\n",
       "      <td>2500</td>\n",
       "      <td>2048</td>\n",
       "      <td>0.168</td>\n",
       "      <td>0.168</td>\n",
       "      <td>NaN</td>\n",
       "      <td>/data/images_001/images/00000001_002.png</td>\n",
       "      <td>0.0</td>\n",
       "      <td>1.0</td>\n",
       "      <td>0.0</td>\n",
       "      <td>0.0</td>\n",
       "      <td>1.0</td>\n",
       "      <td>0.0</td>\n",
       "      <td>0.0</td>\n",
       "      <td>0.0</td>\n",
       "      <td>0.0</td>\n",
       "      <td>0.0</td>\n",
       "      <td>0.0</td>\n",
       "      <td>0.0</td>\n",
       "      <td>0.0</td>\n",
       "      <td>0.0</td>\n",
       "      <td>0.0</td>\n",
       "    </tr>\n",
       "    <tr>\n",
       "      <th>3</th>\n",
       "      <td>00000002_000.png</td>\n",
       "      <td>No Finding</td>\n",
       "      <td>0</td>\n",
       "      <td>2</td>\n",
       "      <td>81</td>\n",
       "      <td>M</td>\n",
       "      <td>PA</td>\n",
       "      <td>2500</td>\n",
       "      <td>2048</td>\n",
       "      <td>0.171</td>\n",
       "      <td>0.171</td>\n",
       "      <td>NaN</td>\n",
       "      <td>/data/images_001/images/00000002_000.png</td>\n",
       "      <td>0.0</td>\n",
       "      <td>0.0</td>\n",
       "      <td>0.0</td>\n",
       "      <td>0.0</td>\n",
       "      <td>0.0</td>\n",
       "      <td>0.0</td>\n",
       "      <td>0.0</td>\n",
       "      <td>0.0</td>\n",
       "      <td>0.0</td>\n",
       "      <td>0.0</td>\n",
       "      <td>1.0</td>\n",
       "      <td>0.0</td>\n",
       "      <td>0.0</td>\n",
       "      <td>0.0</td>\n",
       "      <td>0.0</td>\n",
       "    </tr>\n",
       "    <tr>\n",
       "      <th>4</th>\n",
       "      <td>00000003_000.png</td>\n",
       "      <td>Hernia</td>\n",
       "      <td>0</td>\n",
       "      <td>3</td>\n",
       "      <td>81</td>\n",
       "      <td>F</td>\n",
       "      <td>PA</td>\n",
       "      <td>2582</td>\n",
       "      <td>2991</td>\n",
       "      <td>0.143</td>\n",
       "      <td>0.143</td>\n",
       "      <td>NaN</td>\n",
       "      <td>/data/images_001/images/00000003_000.png</td>\n",
       "      <td>0.0</td>\n",
       "      <td>0.0</td>\n",
       "      <td>0.0</td>\n",
       "      <td>0.0</td>\n",
       "      <td>0.0</td>\n",
       "      <td>0.0</td>\n",
       "      <td>0.0</td>\n",
       "      <td>1.0</td>\n",
       "      <td>0.0</td>\n",
       "      <td>0.0</td>\n",
       "      <td>0.0</td>\n",
       "      <td>0.0</td>\n",
       "      <td>0.0</td>\n",
       "      <td>0.0</td>\n",
       "      <td>0.0</td>\n",
       "    </tr>\n",
       "  </tbody>\n",
       "</table>\n",
       "</div>"
      ],
      "text/plain": [
       "        Image Index          Finding Labels  Follow-up #  Patient ID  \\\n",
       "0  00000001_000.png            Cardiomegaly            0           1   \n",
       "1  00000001_001.png  Cardiomegaly|Emphysema            1           1   \n",
       "2  00000001_002.png   Cardiomegaly|Effusion            2           1   \n",
       "3  00000002_000.png              No Finding            0           2   \n",
       "4  00000003_000.png                  Hernia            0           3   \n",
       "\n",
       "   Patient Age Patient Gender View Position  OriginalImage[Width  Height]  \\\n",
       "0           58              M            PA                 2682     2749   \n",
       "1           58              M            PA                 2894     2729   \n",
       "2           58              M            PA                 2500     2048   \n",
       "3           81              M            PA                 2500     2048   \n",
       "4           81              F            PA                 2582     2991   \n",
       "\n",
       "   OriginalImagePixelSpacing[x     y]  Unnamed: 11  \\\n",
       "0                        0.143  0.143          NaN   \n",
       "1                        0.143  0.143          NaN   \n",
       "2                        0.168  0.168          NaN   \n",
       "3                        0.171  0.171          NaN   \n",
       "4                        0.143  0.143          NaN   \n",
       "\n",
       "                                       path  Atelectasis  Cardiomegaly  \\\n",
       "0  /data/images_001/images/00000001_000.png          0.0           1.0   \n",
       "1  /data/images_001/images/00000001_001.png          0.0           1.0   \n",
       "2  /data/images_001/images/00000001_002.png          0.0           1.0   \n",
       "3  /data/images_001/images/00000002_000.png          0.0           0.0   \n",
       "4  /data/images_001/images/00000003_000.png          0.0           0.0   \n",
       "\n",
       "   Consolidation  Edema  Effusion  Emphysema  Fibrosis  Hernia  Infiltration  \\\n",
       "0            0.0    0.0       0.0        0.0       0.0     0.0           0.0   \n",
       "1            0.0    0.0       0.0        1.0       0.0     0.0           0.0   \n",
       "2            0.0    0.0       1.0        0.0       0.0     0.0           0.0   \n",
       "3            0.0    0.0       0.0        0.0       0.0     0.0           0.0   \n",
       "4            0.0    0.0       0.0        0.0       0.0     1.0           0.0   \n",
       "\n",
       "   Mass  No Finding  Nodule  Pleural_Thickening  Pneumonia  Pneumothorax  \n",
       "0   0.0         0.0     0.0                 0.0        0.0           0.0  \n",
       "1   0.0         0.0     0.0                 0.0        0.0           0.0  \n",
       "2   0.0         0.0     0.0                 0.0        0.0           0.0  \n",
       "3   0.0         1.0     0.0                 0.0        0.0           0.0  \n",
       "4   0.0         0.0     0.0                 0.0        0.0           0.0  "
      ]
     },
     "execution_count": 6,
     "metadata": {},
     "output_type": "execute_result"
    }
   ],
   "source": [
    "## Here you may want to create some extra columns in your table with binary indicators of certain diseases \n",
    "## rather than working directly with the 'Finding Labels' column\n",
    "\n",
    "# Todo\n",
    "all_labels=np.unique(list(chain(*all_xray_df['Finding Labels'].map(lambda x: x.split('|')).tolist())))\n",
    "all_labels=[x for x in all_labels if len(x)>0]\n",
    "print(all_labels)\n",
    "\n",
    "for label in all_labels:\n",
    "    if len(label)>1:  # leave out empty labels\n",
    "        all_xray_df[label] = all_xray_df['Finding Labels'].map(lambda finding: 1.0 if label in finding else 0)\n",
    "\n",
    "        \n",
    "all_xray_df.head()"
   ]
  },
  {
   "cell_type": "code",
   "execution_count": 7,
   "metadata": {},
   "outputs": [
    {
     "data": {
      "text/html": [
       "<div>\n",
       "<style scoped>\n",
       "    .dataframe tbody tr th:only-of-type {\n",
       "        vertical-align: middle;\n",
       "    }\n",
       "\n",
       "    .dataframe tbody tr th {\n",
       "        vertical-align: top;\n",
       "    }\n",
       "\n",
       "    .dataframe thead th {\n",
       "        text-align: right;\n",
       "    }\n",
       "</style>\n",
       "<table border=\"1\" class=\"dataframe\">\n",
       "  <thead>\n",
       "    <tr style=\"text-align: right;\">\n",
       "      <th></th>\n",
       "      <th>Image Index</th>\n",
       "      <th>Finding Labels</th>\n",
       "      <th>Follow-up #</th>\n",
       "      <th>Patient ID</th>\n",
       "      <th>Patient Age</th>\n",
       "      <th>Patient Gender</th>\n",
       "      <th>View Position</th>\n",
       "      <th>OriginalImage[Width</th>\n",
       "      <th>Height]</th>\n",
       "      <th>OriginalImagePixelSpacing[x</th>\n",
       "      <th>y]</th>\n",
       "      <th>Unnamed: 11</th>\n",
       "      <th>path</th>\n",
       "      <th>Atelectasis</th>\n",
       "      <th>Cardiomegaly</th>\n",
       "      <th>Consolidation</th>\n",
       "      <th>Edema</th>\n",
       "      <th>Effusion</th>\n",
       "      <th>Emphysema</th>\n",
       "      <th>Fibrosis</th>\n",
       "      <th>Hernia</th>\n",
       "      <th>Infiltration</th>\n",
       "      <th>Mass</th>\n",
       "      <th>No Finding</th>\n",
       "      <th>Nodule</th>\n",
       "      <th>Pleural_Thickening</th>\n",
       "      <th>Pneumonia</th>\n",
       "      <th>Pneumothorax</th>\n",
       "      <th>pneumonia_class</th>\n",
       "    </tr>\n",
       "  </thead>\n",
       "  <tbody>\n",
       "    <tr>\n",
       "      <th>48</th>\n",
       "      <td>00000013_010.png</td>\n",
       "      <td>Effusion|Pneumonia|Pneumothorax</td>\n",
       "      <td>10</td>\n",
       "      <td>13</td>\n",
       "      <td>60</td>\n",
       "      <td>M</td>\n",
       "      <td>AP</td>\n",
       "      <td>3056</td>\n",
       "      <td>2544</td>\n",
       "      <td>0.139</td>\n",
       "      <td>0.139</td>\n",
       "      <td>NaN</td>\n",
       "      <td>/data/images_001/images/00000013_010.png</td>\n",
       "      <td>0.0</td>\n",
       "      <td>0.0</td>\n",
       "      <td>0.0</td>\n",
       "      <td>0.0</td>\n",
       "      <td>1.0</td>\n",
       "      <td>0.0</td>\n",
       "      <td>0.0</td>\n",
       "      <td>0.0</td>\n",
       "      <td>0.0</td>\n",
       "      <td>0.0</td>\n",
       "      <td>0.0</td>\n",
       "      <td>0.0</td>\n",
       "      <td>0.0</td>\n",
       "      <td>1.0</td>\n",
       "      <td>1.0</td>\n",
       "      <td>Positive</td>\n",
       "    </tr>\n",
       "    <tr>\n",
       "      <th>126</th>\n",
       "      <td>00000032_012.png</td>\n",
       "      <td>Atelectasis|Consolidation|Edema|Pneumonia</td>\n",
       "      <td>12</td>\n",
       "      <td>32</td>\n",
       "      <td>55</td>\n",
       "      <td>F</td>\n",
       "      <td>AP</td>\n",
       "      <td>2500</td>\n",
       "      <td>2048</td>\n",
       "      <td>0.168</td>\n",
       "      <td>0.168</td>\n",
       "      <td>NaN</td>\n",
       "      <td>/data/images_001/images/00000032_012.png</td>\n",
       "      <td>1.0</td>\n",
       "      <td>0.0</td>\n",
       "      <td>1.0</td>\n",
       "      <td>1.0</td>\n",
       "      <td>0.0</td>\n",
       "      <td>0.0</td>\n",
       "      <td>0.0</td>\n",
       "      <td>0.0</td>\n",
       "      <td>0.0</td>\n",
       "      <td>0.0</td>\n",
       "      <td>0.0</td>\n",
       "      <td>0.0</td>\n",
       "      <td>0.0</td>\n",
       "      <td>1.0</td>\n",
       "      <td>0.0</td>\n",
       "      <td>Positive</td>\n",
       "    </tr>\n",
       "    <tr>\n",
       "      <th>253</th>\n",
       "      <td>00000056_000.png</td>\n",
       "      <td>Nodule|Pneumonia</td>\n",
       "      <td>0</td>\n",
       "      <td>56</td>\n",
       "      <td>76</td>\n",
       "      <td>M</td>\n",
       "      <td>PA</td>\n",
       "      <td>2500</td>\n",
       "      <td>2048</td>\n",
       "      <td>0.168</td>\n",
       "      <td>0.168</td>\n",
       "      <td>NaN</td>\n",
       "      <td>/data/images_001/images/00000056_000.png</td>\n",
       "      <td>0.0</td>\n",
       "      <td>0.0</td>\n",
       "      <td>0.0</td>\n",
       "      <td>0.0</td>\n",
       "      <td>0.0</td>\n",
       "      <td>0.0</td>\n",
       "      <td>0.0</td>\n",
       "      <td>0.0</td>\n",
       "      <td>0.0</td>\n",
       "      <td>0.0</td>\n",
       "      <td>0.0</td>\n",
       "      <td>1.0</td>\n",
       "      <td>0.0</td>\n",
       "      <td>1.0</td>\n",
       "      <td>0.0</td>\n",
       "      <td>Positive</td>\n",
       "    </tr>\n",
       "    <tr>\n",
       "      <th>276</th>\n",
       "      <td>00000061_012.png</td>\n",
       "      <td>Edema|Effusion|Infiltration|Pleural_Thickening...</td>\n",
       "      <td>12</td>\n",
       "      <td>61</td>\n",
       "      <td>77</td>\n",
       "      <td>M</td>\n",
       "      <td>AP</td>\n",
       "      <td>3056</td>\n",
       "      <td>2544</td>\n",
       "      <td>0.139</td>\n",
       "      <td>0.139</td>\n",
       "      <td>NaN</td>\n",
       "      <td>/data/images_001/images/00000061_012.png</td>\n",
       "      <td>0.0</td>\n",
       "      <td>0.0</td>\n",
       "      <td>0.0</td>\n",
       "      <td>1.0</td>\n",
       "      <td>1.0</td>\n",
       "      <td>0.0</td>\n",
       "      <td>0.0</td>\n",
       "      <td>0.0</td>\n",
       "      <td>1.0</td>\n",
       "      <td>0.0</td>\n",
       "      <td>0.0</td>\n",
       "      <td>0.0</td>\n",
       "      <td>1.0</td>\n",
       "      <td>1.0</td>\n",
       "      <td>0.0</td>\n",
       "      <td>Positive</td>\n",
       "    </tr>\n",
       "    <tr>\n",
       "      <th>279</th>\n",
       "      <td>00000061_015.png</td>\n",
       "      <td>Pneumonia</td>\n",
       "      <td>15</td>\n",
       "      <td>61</td>\n",
       "      <td>77</td>\n",
       "      <td>M</td>\n",
       "      <td>AP</td>\n",
       "      <td>3056</td>\n",
       "      <td>2544</td>\n",
       "      <td>0.139</td>\n",
       "      <td>0.139</td>\n",
       "      <td>NaN</td>\n",
       "      <td>/data/images_001/images/00000061_015.png</td>\n",
       "      <td>0.0</td>\n",
       "      <td>0.0</td>\n",
       "      <td>0.0</td>\n",
       "      <td>0.0</td>\n",
       "      <td>0.0</td>\n",
       "      <td>0.0</td>\n",
       "      <td>0.0</td>\n",
       "      <td>0.0</td>\n",
       "      <td>0.0</td>\n",
       "      <td>0.0</td>\n",
       "      <td>0.0</td>\n",
       "      <td>0.0</td>\n",
       "      <td>0.0</td>\n",
       "      <td>1.0</td>\n",
       "      <td>0.0</td>\n",
       "      <td>Positive</td>\n",
       "    </tr>\n",
       "    <tr>\n",
       "      <th>...</th>\n",
       "      <td>...</td>\n",
       "      <td>...</td>\n",
       "      <td>...</td>\n",
       "      <td>...</td>\n",
       "      <td>...</td>\n",
       "      <td>...</td>\n",
       "      <td>...</td>\n",
       "      <td>...</td>\n",
       "      <td>...</td>\n",
       "      <td>...</td>\n",
       "      <td>...</td>\n",
       "      <td>...</td>\n",
       "      <td>...</td>\n",
       "      <td>...</td>\n",
       "      <td>...</td>\n",
       "      <td>...</td>\n",
       "      <td>...</td>\n",
       "      <td>...</td>\n",
       "      <td>...</td>\n",
       "      <td>...</td>\n",
       "      <td>...</td>\n",
       "      <td>...</td>\n",
       "      <td>...</td>\n",
       "      <td>...</td>\n",
       "      <td>...</td>\n",
       "      <td>...</td>\n",
       "      <td>...</td>\n",
       "      <td>...</td>\n",
       "      <td>...</td>\n",
       "    </tr>\n",
       "    <tr>\n",
       "      <th>111557</th>\n",
       "      <td>00030536_007.png</td>\n",
       "      <td>Atelectasis|Consolidation|Pneumonia</td>\n",
       "      <td>7</td>\n",
       "      <td>30536</td>\n",
       "      <td>56</td>\n",
       "      <td>F</td>\n",
       "      <td>AP</td>\n",
       "      <td>3056</td>\n",
       "      <td>2544</td>\n",
       "      <td>0.139</td>\n",
       "      <td>0.139</td>\n",
       "      <td>NaN</td>\n",
       "      <td>/data/images_012/images/00030536_007.png</td>\n",
       "      <td>1.0</td>\n",
       "      <td>0.0</td>\n",
       "      <td>1.0</td>\n",
       "      <td>0.0</td>\n",
       "      <td>0.0</td>\n",
       "      <td>0.0</td>\n",
       "      <td>0.0</td>\n",
       "      <td>0.0</td>\n",
       "      <td>0.0</td>\n",
       "      <td>0.0</td>\n",
       "      <td>0.0</td>\n",
       "      <td>0.0</td>\n",
       "      <td>0.0</td>\n",
       "      <td>1.0</td>\n",
       "      <td>0.0</td>\n",
       "      <td>Positive</td>\n",
       "    </tr>\n",
       "    <tr>\n",
       "      <th>111627</th>\n",
       "      <td>00030570_001.png</td>\n",
       "      <td>Edema|Infiltration|Pneumonia</td>\n",
       "      <td>1</td>\n",
       "      <td>30570</td>\n",
       "      <td>29</td>\n",
       "      <td>F</td>\n",
       "      <td>AP</td>\n",
       "      <td>3056</td>\n",
       "      <td>2544</td>\n",
       "      <td>0.139</td>\n",
       "      <td>0.139</td>\n",
       "      <td>NaN</td>\n",
       "      <td>/data/images_012/images/00030570_001.png</td>\n",
       "      <td>0.0</td>\n",
       "      <td>0.0</td>\n",
       "      <td>0.0</td>\n",
       "      <td>1.0</td>\n",
       "      <td>0.0</td>\n",
       "      <td>0.0</td>\n",
       "      <td>0.0</td>\n",
       "      <td>0.0</td>\n",
       "      <td>1.0</td>\n",
       "      <td>0.0</td>\n",
       "      <td>0.0</td>\n",
       "      <td>0.0</td>\n",
       "      <td>0.0</td>\n",
       "      <td>1.0</td>\n",
       "      <td>0.0</td>\n",
       "      <td>Positive</td>\n",
       "    </tr>\n",
       "    <tr>\n",
       "      <th>111767</th>\n",
       "      <td>00030621_002.png</td>\n",
       "      <td>Pneumonia</td>\n",
       "      <td>2</td>\n",
       "      <td>30621</td>\n",
       "      <td>22</td>\n",
       "      <td>F</td>\n",
       "      <td>AP</td>\n",
       "      <td>3056</td>\n",
       "      <td>2544</td>\n",
       "      <td>0.139</td>\n",
       "      <td>0.139</td>\n",
       "      <td>NaN</td>\n",
       "      <td>/data/images_012/images/00030621_002.png</td>\n",
       "      <td>0.0</td>\n",
       "      <td>0.0</td>\n",
       "      <td>0.0</td>\n",
       "      <td>0.0</td>\n",
       "      <td>0.0</td>\n",
       "      <td>0.0</td>\n",
       "      <td>0.0</td>\n",
       "      <td>0.0</td>\n",
       "      <td>0.0</td>\n",
       "      <td>0.0</td>\n",
       "      <td>0.0</td>\n",
       "      <td>0.0</td>\n",
       "      <td>0.0</td>\n",
       "      <td>1.0</td>\n",
       "      <td>0.0</td>\n",
       "      <td>Positive</td>\n",
       "    </tr>\n",
       "    <tr>\n",
       "      <th>111845</th>\n",
       "      <td>00030637_016.png</td>\n",
       "      <td>Consolidation|Pneumonia</td>\n",
       "      <td>16</td>\n",
       "      <td>30637</td>\n",
       "      <td>48</td>\n",
       "      <td>M</td>\n",
       "      <td>AP</td>\n",
       "      <td>3056</td>\n",
       "      <td>2544</td>\n",
       "      <td>0.139</td>\n",
       "      <td>0.139</td>\n",
       "      <td>NaN</td>\n",
       "      <td>/data/images_012/images/00030637_016.png</td>\n",
       "      <td>0.0</td>\n",
       "      <td>0.0</td>\n",
       "      <td>1.0</td>\n",
       "      <td>0.0</td>\n",
       "      <td>0.0</td>\n",
       "      <td>0.0</td>\n",
       "      <td>0.0</td>\n",
       "      <td>0.0</td>\n",
       "      <td>0.0</td>\n",
       "      <td>0.0</td>\n",
       "      <td>0.0</td>\n",
       "      <td>0.0</td>\n",
       "      <td>0.0</td>\n",
       "      <td>1.0</td>\n",
       "      <td>0.0</td>\n",
       "      <td>Positive</td>\n",
       "    </tr>\n",
       "    <tr>\n",
       "      <th>112115</th>\n",
       "      <td>00030801_001.png</td>\n",
       "      <td>Mass|Pneumonia</td>\n",
       "      <td>1</td>\n",
       "      <td>30801</td>\n",
       "      <td>39</td>\n",
       "      <td>M</td>\n",
       "      <td>PA</td>\n",
       "      <td>2048</td>\n",
       "      <td>2500</td>\n",
       "      <td>0.168</td>\n",
       "      <td>0.168</td>\n",
       "      <td>NaN</td>\n",
       "      <td>/data/images_012/images/00030801_001.png</td>\n",
       "      <td>0.0</td>\n",
       "      <td>0.0</td>\n",
       "      <td>0.0</td>\n",
       "      <td>0.0</td>\n",
       "      <td>0.0</td>\n",
       "      <td>0.0</td>\n",
       "      <td>0.0</td>\n",
       "      <td>0.0</td>\n",
       "      <td>0.0</td>\n",
       "      <td>1.0</td>\n",
       "      <td>0.0</td>\n",
       "      <td>0.0</td>\n",
       "      <td>0.0</td>\n",
       "      <td>1.0</td>\n",
       "      <td>0.0</td>\n",
       "      <td>Positive</td>\n",
       "    </tr>\n",
       "  </tbody>\n",
       "</table>\n",
       "<p>1431 rows × 29 columns</p>\n",
       "</div>"
      ],
      "text/plain": [
       "             Image Index                                     Finding Labels  \\\n",
       "48      00000013_010.png                    Effusion|Pneumonia|Pneumothorax   \n",
       "126     00000032_012.png          Atelectasis|Consolidation|Edema|Pneumonia   \n",
       "253     00000056_000.png                                   Nodule|Pneumonia   \n",
       "276     00000061_012.png  Edema|Effusion|Infiltration|Pleural_Thickening...   \n",
       "279     00000061_015.png                                          Pneumonia   \n",
       "...                  ...                                                ...   \n",
       "111557  00030536_007.png                Atelectasis|Consolidation|Pneumonia   \n",
       "111627  00030570_001.png                       Edema|Infiltration|Pneumonia   \n",
       "111767  00030621_002.png                                          Pneumonia   \n",
       "111845  00030637_016.png                            Consolidation|Pneumonia   \n",
       "112115  00030801_001.png                                     Mass|Pneumonia   \n",
       "\n",
       "        Follow-up #  Patient ID  Patient Age Patient Gender View Position  \\\n",
       "48               10          13           60              M            AP   \n",
       "126              12          32           55              F            AP   \n",
       "253               0          56           76              M            PA   \n",
       "276              12          61           77              M            AP   \n",
       "279              15          61           77              M            AP   \n",
       "...             ...         ...          ...            ...           ...   \n",
       "111557            7       30536           56              F            AP   \n",
       "111627            1       30570           29              F            AP   \n",
       "111767            2       30621           22              F            AP   \n",
       "111845           16       30637           48              M            AP   \n",
       "112115            1       30801           39              M            PA   \n",
       "\n",
       "        OriginalImage[Width  Height]  OriginalImagePixelSpacing[x     y]  \\\n",
       "48                     3056     2544                        0.139  0.139   \n",
       "126                    2500     2048                        0.168  0.168   \n",
       "253                    2500     2048                        0.168  0.168   \n",
       "276                    3056     2544                        0.139  0.139   \n",
       "279                    3056     2544                        0.139  0.139   \n",
       "...                     ...      ...                          ...    ...   \n",
       "111557                 3056     2544                        0.139  0.139   \n",
       "111627                 3056     2544                        0.139  0.139   \n",
       "111767                 3056     2544                        0.139  0.139   \n",
       "111845                 3056     2544                        0.139  0.139   \n",
       "112115                 2048     2500                        0.168  0.168   \n",
       "\n",
       "        Unnamed: 11                                      path  Atelectasis  \\\n",
       "48              NaN  /data/images_001/images/00000013_010.png          0.0   \n",
       "126             NaN  /data/images_001/images/00000032_012.png          1.0   \n",
       "253             NaN  /data/images_001/images/00000056_000.png          0.0   \n",
       "276             NaN  /data/images_001/images/00000061_012.png          0.0   \n",
       "279             NaN  /data/images_001/images/00000061_015.png          0.0   \n",
       "...             ...                                       ...          ...   \n",
       "111557          NaN  /data/images_012/images/00030536_007.png          1.0   \n",
       "111627          NaN  /data/images_012/images/00030570_001.png          0.0   \n",
       "111767          NaN  /data/images_012/images/00030621_002.png          0.0   \n",
       "111845          NaN  /data/images_012/images/00030637_016.png          0.0   \n",
       "112115          NaN  /data/images_012/images/00030801_001.png          0.0   \n",
       "\n",
       "        Cardiomegaly  Consolidation  Edema  Effusion  Emphysema  Fibrosis  \\\n",
       "48               0.0            0.0    0.0       1.0        0.0       0.0   \n",
       "126              0.0            1.0    1.0       0.0        0.0       0.0   \n",
       "253              0.0            0.0    0.0       0.0        0.0       0.0   \n",
       "276              0.0            0.0    1.0       1.0        0.0       0.0   \n",
       "279              0.0            0.0    0.0       0.0        0.0       0.0   \n",
       "...              ...            ...    ...       ...        ...       ...   \n",
       "111557           0.0            1.0    0.0       0.0        0.0       0.0   \n",
       "111627           0.0            0.0    1.0       0.0        0.0       0.0   \n",
       "111767           0.0            0.0    0.0       0.0        0.0       0.0   \n",
       "111845           0.0            1.0    0.0       0.0        0.0       0.0   \n",
       "112115           0.0            0.0    0.0       0.0        0.0       0.0   \n",
       "\n",
       "        Hernia  Infiltration  Mass  No Finding  Nodule  Pleural_Thickening  \\\n",
       "48         0.0           0.0   0.0         0.0     0.0                 0.0   \n",
       "126        0.0           0.0   0.0         0.0     0.0                 0.0   \n",
       "253        0.0           0.0   0.0         0.0     1.0                 0.0   \n",
       "276        0.0           1.0   0.0         0.0     0.0                 1.0   \n",
       "279        0.0           0.0   0.0         0.0     0.0                 0.0   \n",
       "...        ...           ...   ...         ...     ...                 ...   \n",
       "111557     0.0           0.0   0.0         0.0     0.0                 0.0   \n",
       "111627     0.0           1.0   0.0         0.0     0.0                 0.0   \n",
       "111767     0.0           0.0   0.0         0.0     0.0                 0.0   \n",
       "111845     0.0           0.0   0.0         0.0     0.0                 0.0   \n",
       "112115     0.0           0.0   1.0         0.0     0.0                 0.0   \n",
       "\n",
       "        Pneumonia  Pneumothorax pneumonia_class  \n",
       "48            1.0           1.0        Positive  \n",
       "126           1.0           0.0        Positive  \n",
       "253           1.0           0.0        Positive  \n",
       "276           1.0           0.0        Positive  \n",
       "279           1.0           0.0        Positive  \n",
       "...           ...           ...             ...  \n",
       "111557        1.0           0.0        Positive  \n",
       "111627        1.0           0.0        Positive  \n",
       "111767        1.0           0.0        Positive  \n",
       "111845        1.0           0.0        Positive  \n",
       "112115        1.0           0.0        Positive  \n",
       "\n",
       "[1431 rows x 29 columns]"
      ]
     },
     "execution_count": 7,
     "metadata": {},
     "output_type": "execute_result"
    }
   ],
   "source": [
    "## Here we can create a new column called 'pneumonia_class' that will allow us to look at \n",
    "## images with or without pneumonia for binary classification\n",
    "\n",
    "# Todo\n",
    "all_xray_df['pneumonia_class']=all_xray_df['Pneumonia'].replace({0.0:'Negative',1.0:'Positive'})\n",
    "\n",
    "all_xray_df[all_xray_df['pneumonia_class']== 'Positive']"
   ]
  },
  {
   "cell_type": "code",
   "execution_count": 8,
   "metadata": {},
   "outputs": [
    {
     "data": {
      "text/plain": [
       "1.2763110952550838"
      ]
     },
     "execution_count": 8,
     "metadata": {},
     "output_type": "execute_result"
    }
   ],
   "source": [
    "# prevalence of pneumonia in the dataset\n",
    "all_xray_df.Pneumonia.sum()/len(all_xray_df) * 100"
   ]
  },
  {
   "cell_type": "code",
   "execution_count": 9,
   "metadata": {},
   "outputs": [
    {
     "name": "stdout",
     "output_type": "stream",
     "text": [
      "maximum patient age with pneumonia:  90\n"
     ]
    },
    {
     "data": {
      "text/plain": [
       "(112104, 29)"
      ]
     },
     "execution_count": 9,
     "metadata": {},
     "output_type": "execute_result"
    }
   ],
   "source": [
    "#drop entries with invalid age >100yrs of age\n",
    "all_xray_df.shape\n",
    "all_xray_df.drop(all_xray_df[all_xray_df['Patient Age'] >120].index, inplace = True) \n",
    "print (\"maximum patient age with pneumonia: \",max(all_xray_df[all_xray_df.Pneumonia==1.0]['Patient Age']))\n",
    "all_xray_df.shape"
   ]
  },
  {
   "cell_type": "markdown",
   "metadata": {},
   "source": [
    "## Create your training and testing data:"
   ]
  },
  {
   "cell_type": "code",
   "execution_count": 10,
   "metadata": {},
   "outputs": [],
   "source": [
    "def create_splits(vargs):\n",
    "    \n",
    "    ## Either build your own or use a built-in library to split your original dataframe into two sets \n",
    "    ## that can be used for training and testing your model\n",
    "    ## It's important to consider here how balanced or imbalanced you want each of those sets to be\n",
    "    ## for the presence of pneumonia\n",
    "    \n",
    "    # Todo\n",
    "    \n",
    "    #return train_data, val_data\n",
    "    train_data, val_data=skl.train_test_split(vargs,\n",
    "                                              test_size=0.2,\n",
    "                                             stratify=vargs['Pneumonia'])\n",
    "    \n",
    "    #balance train_data\n",
    "    p_ind=train_data[train_data['pneumonia_class']=='Positive'].index.tolist()\n",
    "    n_ind=train_data[train_data['pneumonia_class']=='Negative'].index.tolist()\n",
    "    n_sample = sample(n_ind,len(p_ind))\n",
    "    train_data=train_data.loc[p_ind+n_sample]\n",
    "    \n",
    "    \"\"\"balance val_data.  In the clinical setting where this algorithm will be deployed, \n",
    "    patients are being x-rayed based on their clinical symptoms that make Pneumonia \n",
    "    highly likely.  The prevalence of Pneumonia is about 20% of those who are x-rayed.\"\"\"\n",
    "    vp_ind=val_data[val_data['pneumonia_class']=='Positive'].index.tolist()\n",
    "    vn_ind=val_data[val_data['pneumonia_class']=='Negative'].index.tolist()\n",
    "    vn_sample = sample(vn_ind,4*len(vp_ind))\n",
    "    val_data=val_data.loc[vp_ind+vn_sample]\n",
    "    \n",
    "    return train_data, val_data"
   ]
  },
  {
   "cell_type": "code",
   "execution_count": 11,
   "metadata": {},
   "outputs": [],
   "source": [
    "train_data, val_data = create_splits(all_xray_df)"
   ]
  },
  {
   "cell_type": "code",
   "execution_count": 12,
   "metadata": {},
   "outputs": [
    {
     "data": {
      "text/plain": [
       "True     1144\n",
       "False    1144\n",
       "Name: pneumonia_class, dtype: int64"
      ]
     },
     "execution_count": 12,
     "metadata": {},
     "output_type": "execute_result"
    }
   ],
   "source": [
    "(train_data['pneumonia_class']=='Positive').value_counts()"
   ]
  },
  {
   "cell_type": "code",
   "execution_count": 13,
   "metadata": {},
   "outputs": [
    {
     "data": {
      "text/plain": [
       "True     1144\n",
       "False     286\n",
       "Name: pneumonia_class, dtype: int64"
      ]
     },
     "execution_count": 13,
     "metadata": {},
     "output_type": "execute_result"
    }
   ],
   "source": [
    "(val_data['pneumonia_class']=='Negative').value_counts()"
   ]
  },
  {
   "cell_type": "code",
   "execution_count": 14,
   "metadata": {},
   "outputs": [
    {
     "data": {
      "text/plain": [
       "Ttest_indResult(statistic=0.5791491738179542, pvalue=0.5625749051527122)"
      ]
     },
     "execution_count": 14,
     "metadata": {},
     "output_type": "execute_result"
    }
   ],
   "source": [
    "#check train_data distribution for changes in Age distribution of Males with Pneumonia\n",
    "scipy.stats.ttest_ind(all_xray_df['Patient Age'][(all_xray_df['Pneumonia']==True) & (all_xray_df['Patient Gender']=='M')],\n",
    "                     train_data['Patient Age'][(train_data['Pneumonia']==True) & (train_data['Patient Gender']=='M')]\n",
    ")"
   ]
  },
  {
   "cell_type": "code",
   "execution_count": 15,
   "metadata": {},
   "outputs": [
    {
     "data": {
      "text/plain": [
       "Ttest_indResult(statistic=-0.5322402270152541, pvalue=0.5946711634328559)"
      ]
     },
     "execution_count": 15,
     "metadata": {},
     "output_type": "execute_result"
    }
   ],
   "source": [
    "#check train_data distribution for changes in Age distribution of Females with Pneumonia\n",
    "scipy.stats.ttest_ind(all_xray_df['Patient Age'][(all_xray_df['Pneumonia']==True) & (all_xray_df['Patient Gender']=='F')],\n",
    "                     train_data['Patient Age'][(train_data['Pneumonia']==True) & (train_data['Patient Gender']=='F')]\n",
    ")"
   ]
  },
  {
   "cell_type": "code",
   "execution_count": 16,
   "metadata": {},
   "outputs": [
    {
     "data": {
      "text/plain": [
       "M    1330\n",
       "F     958\n",
       "Name: Patient Gender, dtype: int64"
      ]
     },
     "execution_count": 16,
     "metadata": {},
     "output_type": "execute_result"
    }
   ],
   "source": [
    "train_data['Patient Gender'].value_counts()"
   ]
  },
  {
   "cell_type": "code",
   "execution_count": 17,
   "metadata": {},
   "outputs": [
    {
     "data": {
      "text/plain": [
       "Ttest_indResult(statistic=-1.4591912387981356, pvalue=0.14482745892526125)"
      ]
     },
     "execution_count": 17,
     "metadata": {},
     "output_type": "execute_result"
    }
   ],
   "source": [
    "#check val_data distribution for changes in Age distribution of Males with Pneumonia\n",
    "scipy.stats.ttest_ind(all_xray_df['Patient Age'][(all_xray_df['Pneumonia']==True) & (all_xray_df['Patient Gender']=='M')],\n",
    "                     val_data['Patient Age'][(val_data['Pneumonia']== True) & (val_data['Patient Gender']=='M')]\n",
    ")"
   ]
  },
  {
   "cell_type": "code",
   "execution_count": 18,
   "metadata": {},
   "outputs": [
    {
     "data": {
      "text/plain": [
       "Ttest_indResult(statistic=1.2468603424473093, pvalue=0.21285700324164822)"
      ]
     },
     "execution_count": 18,
     "metadata": {},
     "output_type": "execute_result"
    }
   ],
   "source": [
    "#check val_data distribution for changes in Age distribution of Females with Pneumonia\n",
    "scipy.stats.ttest_ind(all_xray_df['Patient Age'][(all_xray_df['Pneumonia']== True) & (all_xray_df['Patient Gender']=='F')],\n",
    "                     val_data['Patient Age'][(val_data['Pneumonia']==True) & (val_data['Patient Gender']=='F')]\n",
    ")"
   ]
  },
  {
   "cell_type": "code",
   "execution_count": 19,
   "metadata": {},
   "outputs": [
    {
     "data": {
      "text/plain": [
       "M    806\n",
       "F    624\n",
       "Name: Patient Gender, dtype: int64"
      ]
     },
     "execution_count": 19,
     "metadata": {},
     "output_type": "execute_result"
    }
   ],
   "source": [
    "val_data['Patient Gender'].value_counts()"
   ]
  },
  {
   "cell_type": "code",
   "execution_count": null,
   "metadata": {},
   "outputs": [],
   "source": []
  },
  {
   "cell_type": "markdown",
   "metadata": {},
   "source": [
    "# Now we can begin our model-building & training"
   ]
  },
  {
   "cell_type": "markdown",
   "metadata": {},
   "source": [
    "#### First suggestion: perform some image augmentation on your data"
   ]
  },
  {
   "cell_type": "code",
   "execution_count": 20,
   "metadata": {},
   "outputs": [],
   "source": [
    "target_size = (224, 224)\n",
    "batch_size = 32"
   ]
  },
  {
   "cell_type": "code",
   "execution_count": 21,
   "metadata": {},
   "outputs": [],
   "source": [
    "def my_image_augmentation():\n",
    "    \n",
    "    ## recommendation here to implement a package like Keras' ImageDataGenerator\n",
    "    ## with some of the built-in augmentations \n",
    "    \n",
    "    ## keep an eye out for types of augmentation that are or are not appropriate for medical imaging data\n",
    "    ## Also keep in mind what sort of augmentation is or is not appropriate for testing vs validation data\n",
    "    \n",
    "    ## STAND-OUT SUGGESTION: implement some of your own custom augmentation that's *not*\n",
    "    ## built into something like a Keras package\n",
    "    \n",
    "    # Todo\n",
    "    my_train_idg = ImageDataGenerator(rescale = 1./255,\n",
    "                                      horizontal_flip = True,\n",
    "                                      height_shift_range = 0.1,\n",
    "                                      width_shift_range = 0.1,\n",
    "                                      rotation_range = 15,\n",
    "                                      shear_range = 0.1,\n",
    "                                      zoom_range = 0.1, \n",
    "                                      samplewise_center = True,\n",
    "                                      samplewise_std_normalization = True\n",
    "                                     )\n",
    "    return my_train_idg\n",
    "\n",
    "def my_image_augmentation_val():\n",
    "    my_val_idg = ImageDataGenerator(rescale = 1./255.,\n",
    "                                    samplewise_center=True,\n",
    "                                    samplewise_std_normalization=True\n",
    "                                    )\n",
    "    return my_val_idg\n",
    "\n",
    "\n",
    "def make_train_gen(my_train_idg, train_df):\n",
    "    \n",
    "    ## Create the actual generators using the output of my_image_augmentation for your training data\n",
    "    ## Suggestion here to use the flow_from_dataframe library, e.g.:\n",
    "    \n",
    "    train_gen = my_train_idg.flow_from_dataframe(dataframe=train_df, \n",
    "                                          directory=None, \n",
    "                                          x_col = 'path',\n",
    "                                          y_col = 'pneumonia_class',\n",
    "                                          class_mode = 'binary',\n",
    "                                          target_size = (224,224), \n",
    "                                          batch_size = 1 #16\n",
    "                                          )\n",
    "\n",
    "    return train_gen\n",
    "\n",
    "\n",
    "def make_val_gen(my_val_idg, val_df):\n",
    "    \n",
    "    val_gen = my_val_idg.flow_from_dataframe(dataframe = val_df, \n",
    "                                              directory=None, \n",
    "                                              x_col = 'path',\n",
    "                                              y_col = 'pneumonia_class',\n",
    "                                              class_mode = 'binary',\n",
    "                                              target_size = (224,224), \n",
    "                                              batch_size = 2, # 32,\n",
    "                                              shuffle=False\n",
    "                                             ) \n",
    "    \n",
    "    return val_gen"
   ]
  },
  {
   "cell_type": "code",
   "execution_count": null,
   "metadata": {},
   "outputs": [],
   "source": []
  },
  {
   "cell_type": "code",
   "execution_count": 23,
   "metadata": {},
   "outputs": [
    {
     "data": {
      "image/png": "[encoded data removed]",
      "text/plain": [
       "<Figure size 720x360 with 2 Axes>"
      ]
     },
     "metadata": {
      "needs_background": "light"
     },
     "output_type": "display_data"
    }
   ],
   "source": [
    "fig, ax = plt.subplots(1, 2, figsize = (10, 5))\n",
    "ax[0].hist(train_data['Patient Age'],range=(1,100))\n",
    "ax[0].set_xlabel(\"Age\")\n",
    "ax[0].set_title(\"Training Data\")\n",
    "ax[0].set_ylabel(\"Number of Patients\")\n",
    "ax[0].grid(\"on\")\n",
    "\n",
    "ax[1].hist(train_data['Patient Age'],range=(1,100))\n",
    "ax[1].set_xlabel(\"Age\")\n",
    "ax[1].set_title(\"Validation Data\")\n",
    "ax[1].set_ylabel(\"Number of Patients\")\n",
    "ax[1].grid(\"on\")\n",
    "\n",
    "plt.show()"
   ]
  },
  {
   "cell_type": "code",
   "execution_count": 24,
   "metadata": {},
   "outputs": [
    {
     "data": {
      "image/png": "[encoded data removed]",
      "text/plain": [
       "<Figure size 720x360 with 2 Axes>"
      ]
     },
     "metadata": {
      "needs_background": "light"
     },
     "output_type": "display_data"
    }
   ],
   "source": [
    "fig, ax = plt.subplots(1, 2, figsize = (10, 5))\n",
    "ax[0].hist(train_data['Patient Gender'])\n",
    "ax[0].set_xlabel(\"Gender\")\n",
    "ax[0].set_title(\"Training Data\")\n",
    "ax[0].set_ylabel(\"Number of Patients\")\n",
    "ax[0].grid(\"on\")\n",
    "\n",
    "ax[1].hist(train_data['Patient Gender'])\n",
    "ax[1].set_xlabel(\"Gender\")\n",
    "ax[1].set_title(\"Validation Data\")\n",
    "ax[1].set_ylabel(\"Number of Patients\")\n",
    "ax[1].grid(\"on\")\n",
    "\n",
    "plt.show()"
   ]
  },
  {
   "cell_type": "code",
   "execution_count": 25,
   "metadata": {},
   "outputs": [
    {
     "data": {
      "image/png": "[encoded data removed]",
      "text/plain": [
       "<Figure size 720x360 with 2 Axes>"
      ]
     },
     "metadata": {
      "needs_background": "light"
     },
     "output_type": "display_data"
    }
   ],
   "source": [
    "fig, ax = plt.subplots(1, 2, figsize = (10, 5))\n",
    "ax[0].hist(train_data['Patient Gender'])\n",
    "ax[0].set_xlabel(\"Gender\")\n",
    "ax[0].set_title(\"Training Data\")\n",
    "ax[0].set_ylabel(\"Number of Patients\")\n",
    "ax[0].grid(\"on\")\n",
    "\n",
    "ax[1].hist(train_data['Patient Gender'])\n",
    "ax[1].set_xlabel(\"Gender\")\n",
    "ax[1].set_title(\"Validation Data\")\n",
    "ax[1].set_ylabel(\"Number of Patients\")\n",
    "ax[1].grid(\"on\")\n",
    "\n",
    "plt.show()"
   ]
  },
  {
   "cell_type": "code",
   "execution_count": 26,
   "metadata": {},
   "outputs": [
    {
     "data": {
      "image/png": "[encoded data removed]",
      "text/plain": [
       "<Figure size 720x360 with 2 Axes>"
      ]
     },
     "metadata": {
      "needs_background": "light"
     },
     "output_type": "display_data"
    }
   ],
   "source": [
    "fig, ax = plt.subplots(1, 2, figsize = (10, 5))\n",
    "ax[0].hist(train_data['View Position'])\n",
    "ax[0].set_xlabel(\"Position\")\n",
    "ax[0].set_title(\"Training Data\")\n",
    "ax[0].set_ylabel(\"Number of Patients\")\n",
    "ax[0].grid(\"on\")\n",
    "\n",
    "ax[1].hist(train_data['View Position'])\n",
    "ax[1].set_xlabel(\"Position\")\n",
    "ax[1].set_title(\"Validation Data\")\n",
    "ax[1].set_ylabel(\"Number of Patients\")\n",
    "ax[1].grid(\"on\")\n",
    "\n",
    "plt.show()"
   ]
  },
  {
   "cell_type": "code",
   "execution_count": null,
   "metadata": {},
   "outputs": [],
   "source": []
  },
  {
   "cell_type": "code",
   "execution_count": 27,
   "metadata": {},
   "outputs": [
    {
     "name": "stdout",
     "output_type": "stream",
     "text": [
      "Found 1430 validated image filenames belonging to 2 classes.\n"
     ]
    }
   ],
   "source": [
    "## May want to pull a single large batch of random validation data for testing after each epoch:\n",
    "val_gen = make_val_gen(my_image_augmentation_val(),val_data)\n",
    "valX, valY = val_gen.next()"
   ]
  },
  {
   "cell_type": "code",
   "execution_count": 28,
   "metadata": {},
   "outputs": [
    {
     "name": "stdout",
     "output_type": "stream",
     "text": [
      "Found 2288 validated image filenames belonging to 2 classes.\n",
      "shape (224, 224, 3)\n"
     ]
    },
    {
     "data": {
      "image/png": "[encoded data removed]",
      "text/plain": [
       "<Figure size 1152x1152 with 16 Axes>"
      ]
     },
     "metadata": {
      "needs_background": "light"
     },
     "output_type": "display_data"
    }
   ],
   "source": [
    "## May want to look at some examples of our augmented training data. \n",
    "## This is helpful for understanding the extent to which data is being manipulated prior to training, \n",
    "## and can be compared with how the raw data look prior to augmentation\n",
    "\n",
    "train_idg = my_image_augmentation() # train\n",
    "train_gen = make_train_gen(train_idg, train_data)\n",
    "\n",
    "\n",
    "t_x, t_y = next(train_gen)\n",
    "print(\"shape\", t_x[0].shape)\n",
    "fig, m_axs = plt.subplots(4, 4, figsize = (16, 16))\n",
    "for (c_x, c_y, c_ax) in zip(t_x, t_y, m_axs.flatten()):\n",
    "    c_ax.imshow(c_x[:,:,0], cmap = 'bone')\n",
    "    if c_y == 1: \n",
    "        c_ax.set_title('Pneumonia')\n",
    "    else:\n",
    "        c_ax.set_title('No Pneumonia')\n",
    "    c_ax.axis('off')"
   ]
  },
  {
   "cell_type": "markdown",
   "metadata": {},
   "source": [
    "## Build your model: \n",
    "\n",
    "Recommendation here to use a pre-trained network downloaded from Keras for fine-tuning"
   ]
  },
  {
   "cell_type": "code",
   "execution_count": 29,
   "metadata": {},
   "outputs": [],
   "source": [
    "def load_pretrained_model(layer_of_interest):\n",
    "    \n",
    "    # model = VGG16(include_top=True, weights='imagenet')\n",
    "    # transfer_layer = model.get_layer(lay_of_interest)\n",
    "    # vgg_model = Model(inputs = model.input, outputs = transfer_layer.output)\n",
    "    \n",
    "    # Todo\n",
    "    model = VGG16(include_top=True, weights='imagenet')\n",
    "    transfer_layer = model.get_layer(layer_of_interest)\n",
    "    vgg_model = Model(inputs = model.input, outputs = transfer_layer.output)\n",
    "    \n",
    "    print(vgg_model.summary())\n",
    "    \n",
    "    for layer in vgg_model.layers[0:-2]:\n",
    "        layer.trainable = False\n",
    "    \n",
    "    return vgg_model\n"
   ]
  },
  {
   "cell_type": "code",
   "execution_count": 30,
   "metadata": {},
   "outputs": [],
   "source": [
    "# vgg_model = load_pretrained_model()\n",
    "# vgg_model.summary()"
   ]
  },
  {
   "cell_type": "code",
   "execution_count": 31,
   "metadata": {},
   "outputs": [],
   "source": [
    "def build_my_model(pretrained_model):\n",
    "    \n",
    "    # my_model = Sequential()\n",
    "    # ....add your pre-trained model, and then whatever additional layers you think you might\n",
    "    # want for fine-tuning (Flatteen, Dense, Dropout, etc.)\n",
    "    \n",
    "    # if you want to compile your model within this function, consider which layers of your pre-trained model, \n",
    "    # you want to freeze before you compile \n",
    "    \n",
    "    # also make sure you set your optimizer, loss function, and metrics to monitor\n",
    "    \n",
    "    # Todo\n",
    "    \n",
    "    my_model = Sequential()\n",
    "    my_model.add(pretrained_model)\n",
    "    my_model.add(Flatten())\n",
    "    # Add a dense (aka. fully-connected) layer.\n",
    "    # This is for combining features that the VGG16 model has\n",
    "    # recognized in the image.\n",
    "    my_model.add(Dense(1024, activation = 'relu'))\n",
    "    # Add a dropout-layer which may prevent overfitting and\n",
    "    # improve generalization ability to unseen data e.g. the test-set.\n",
    "    my_model.add(Dropout(0.5))\n",
    "    my_model.add(Dense(512, activation = 'relu'))\n",
    "    my_model.add(Dropout(0.5))\n",
    "    my_model.add(Dense(256, activation = 'relu'))\n",
    "    my_model.add(Dropout(0.5))\n",
    "        # Add a dense (aka. fully-connected) layer.\n",
    "    # Change the activation function to sigmoid \n",
    "    # so output of the last layer is in the range of [0,1] \n",
    "    my_model.add(Dense(1, activation = 'sigmoid'))\n",
    "    \n",
    "    optimizer = Adam(learning_rate = 1e-3)\n",
    "    loss = 'binary_crossentropy'\n",
    "    metrics = ['binary_accuracy']\n",
    "    \n",
    "    my_model.compile(optimizer=optimizer, loss=loss, metrics=metrics)\n",
    "    \n",
    "#    my_model_history = my_model.fit_generator(train_gen, \n",
    "#                                             validation_data=(val_X, val_Y),\n",
    "#                                             epochs=epochs)\n",
    "    \n",
    "    \n",
    "    return my_model\n",
    "\n",
    "\n",
    "\n",
    "## STAND-OUT Suggestion: choose another output layer besides just the last classification layer of your modele\n",
    "## to output class activation maps to aid in clinical interpretation of your model's results"
   ]
  },
  {
   "cell_type": "code",
   "execution_count": 32,
   "metadata": {},
   "outputs": [],
   "source": [
    "#print(model.metrics_names)"
   ]
  },
  {
   "cell_type": "code",
   "execution_count": 34,
   "metadata": {},
   "outputs": [],
   "source": [
    "## Below is some helper code that will allow you to add checkpoints to your model,\n",
    "## This will save the 'best' version of your model by comparing it to previous epochs of training\n",
    "\n",
    "## Note that you need to choose which metric to monitor for your model's 'best' performance if using this code. \n",
    "## The 'patience' parameter is set to 10, meaning that your model will train for ten epochs without seeing\n",
    "## improvement before quitting\n",
    "\n",
    "# Todo\n",
    "\n",
    "weight_path=\"{}_my_model.best.hdf5\".format('xray_class')\n",
    "\n",
    "checkpoint = ModelCheckpoint(weight_path, \n",
    "                             monitor= 'val_loss',  # CHOOSE_METRIC_TO_MONITOR_FOR_PERFORMANCE, \n",
    "                             verbose=1, \n",
    "                             save_best_only=True, \n",
    "                             mode= 'min',  # CHOOSE_MIN_OR_MAX_FOR_YOUR_METRIC, \n",
    "                             save_weights_only = True)\n",
    "\n",
    "\n",
    "early = EarlyStopping(monitor= 'val_loss', \n",
    "                      mode= 'min', \n",
    "                      patience=10)\n",
    "# early = EarlyStopping(monitor= SAME_AS_METRIC_CHOSEN_ABOVE, \n",
    "#                       mode= CHOOSE_MIN_OR_MAX_FOR_YOUR_METRIC, \n",
    "#                       patience=10)\n",
    "\n",
    "reduce_lr = ReduceLROnPlateau(monitor='val_loss', factor=0.25,\n",
    "                                  patience=3, min_lr=1e-5)\n",
    "    \n",
    "# return [checkpoint, early, reduce_lr]"
   ]
  },
  {
   "cell_type": "markdown",
   "metadata": {},
   "source": [
    "### Start training! "
   ]
  },
  {
   "cell_type": "code",
   "execution_count": 35,
   "metadata": {},
   "outputs": [
    {
     "name": "stdout",
     "output_type": "stream",
     "text": [
      "Downloading data from https://github.com/fchollet/deep-learning-models/releases/download/v0.1/vgg16_weights_tf_dim_ordering_tf_kernels.h5\n",
      "553467904/553467096 [==============================] - 3s 0us/step\n",
      "Model: \"model_1\"\n",
      "_________________________________________________________________\n",
      "Layer (type)                 Output Shape              Param #   \n",
      "=================================================================\n",
      "input_1 (InputLayer)         (None, 224, 224, 3)       0         \n",
      "_________________________________________________________________\n",
      "block1_conv1 (Conv2D)        (None, 224, 224, 64)      1792      \n",
      "_________________________________________________________________\n",
      "block1_conv2 (Conv2D)        (None, 224, 224, 64)      36928     \n",
      "_________________________________________________________________\n",
      "block1_pool (MaxPooling2D)   (None, 112, 112, 64)      0         \n",
      "_________________________________________________________________\n",
      "block2_conv1 (Conv2D)        (None, 112, 112, 128)     73856     \n",
      "_________________________________________________________________\n",
      "block2_conv2 (Conv2D)        (None, 112, 112, 128)     147584    \n",
      "_________________________________________________________________\n",
      "block2_pool (MaxPooling2D)   (None, 56, 56, 128)       0         \n",
      "_________________________________________________________________\n",
      "block3_conv1 (Conv2D)        (None, 56, 56, 256)       295168    \n",
      "_________________________________________________________________\n",
      "block3_conv2 (Conv2D)        (None, 56, 56, 256)       590080    \n",
      "_________________________________________________________________\n",
      "block3_conv3 (Conv2D)        (None, 56, 56, 256)       590080    \n",
      "_________________________________________________________________\n",
      "block3_pool (MaxPooling2D)   (None, 28, 28, 256)       0         \n",
      "_________________________________________________________________\n",
      "block4_conv1 (Conv2D)        (None, 28, 28, 512)       1180160   \n",
      "_________________________________________________________________\n",
      "block4_conv2 (Conv2D)        (None, 28, 28, 512)       2359808   \n",
      "_________________________________________________________________\n",
      "block4_conv3 (Conv2D)        (None, 28, 28, 512)       2359808   \n",
      "_________________________________________________________________\n",
      "block4_pool (MaxPooling2D)   (None, 14, 14, 512)       0         \n",
      "_________________________________________________________________\n",
      "block5_conv1 (Conv2D)        (None, 14, 14, 512)       2359808   \n",
      "_________________________________________________________________\n",
      "block5_conv2 (Conv2D)        (None, 14, 14, 512)       2359808   \n",
      "_________________________________________________________________\n",
      "block5_conv3 (Conv2D)        (None, 14, 14, 512)       2359808   \n",
      "_________________________________________________________________\n",
      "block5_pool (MaxPooling2D)   (None, 7, 7, 512)         0         \n",
      "=================================================================\n",
      "Total params: 14,714,688\n",
      "Trainable params: 14,714,688\n",
      "Non-trainable params: 0\n",
      "_________________________________________________________________\n",
      "None\n",
      "Model: \"model_1\"\n",
      "_________________________________________________________________\n",
      "Layer (type)                 Output Shape              Param #   \n",
      "=================================================================\n",
      "input_1 (InputLayer)         (None, 224, 224, 3)       0         \n",
      "_________________________________________________________________\n",
      "block1_conv1 (Conv2D)        (None, 224, 224, 64)      1792      \n",
      "_________________________________________________________________\n",
      "block1_conv2 (Conv2D)        (None, 224, 224, 64)      36928     \n",
      "_________________________________________________________________\n",
      "block1_pool (MaxPooling2D)   (None, 112, 112, 64)      0         \n",
      "_________________________________________________________________\n",
      "block2_conv1 (Conv2D)        (None, 112, 112, 128)     73856     \n",
      "_________________________________________________________________\n",
      "block2_conv2 (Conv2D)        (None, 112, 112, 128)     147584    \n",
      "_________________________________________________________________\n",
      "block2_pool (MaxPooling2D)   (None, 56, 56, 128)       0         \n",
      "_________________________________________________________________\n",
      "block3_conv1 (Conv2D)        (None, 56, 56, 256)       295168    \n",
      "_________________________________________________________________\n",
      "block3_conv2 (Conv2D)        (None, 56, 56, 256)       590080    \n",
      "_________________________________________________________________\n",
      "block3_conv3 (Conv2D)        (None, 56, 56, 256)       590080    \n",
      "_________________________________________________________________\n",
      "block3_pool (MaxPooling2D)   (None, 28, 28, 256)       0         \n",
      "_________________________________________________________________\n",
      "block4_conv1 (Conv2D)        (None, 28, 28, 512)       1180160   \n",
      "_________________________________________________________________\n",
      "block4_conv2 (Conv2D)        (None, 28, 28, 512)       2359808   \n",
      "_________________________________________________________________\n",
      "block4_conv3 (Conv2D)        (None, 28, 28, 512)       2359808   \n",
      "_________________________________________________________________\n",
      "block4_pool (MaxPooling2D)   (None, 14, 14, 512)       0         \n",
      "_________________________________________________________________\n",
      "block5_conv1 (Conv2D)        (None, 14, 14, 512)       2359808   \n",
      "_________________________________________________________________\n",
      "block5_conv2 (Conv2D)        (None, 14, 14, 512)       2359808   \n",
      "_________________________________________________________________\n",
      "block5_conv3 (Conv2D)        (None, 14, 14, 512)       2359808   \n",
      "_________________________________________________________________\n",
      "block5_pool (MaxPooling2D)   (None, 7, 7, 512)         0         \n",
      "=================================================================\n",
      "Total params: 14,714,688\n",
      "Trainable params: 2,359,808\n",
      "Non-trainable params: 12,354,880\n",
      "_________________________________________________________________\n"
     ]
    }
   ],
   "source": [
    "\n",
    "\n",
    "# Todo\n",
    "\n",
    "vgg_model = load_pretrained_model('block5_pool')\n",
    "vgg_model.summary()\n",
    "my_model = build_my_model(vgg_model)\n"
   ]
  },
  {
   "cell_type": "code",
   "execution_count": 36,
   "metadata": {},
   "outputs": [
    {
     "name": "stdout",
     "output_type": "stream",
     "text": [
      "Model: \"sequential_1\"\n",
      "_________________________________________________________________\n",
      "Layer (type)                 Output Shape              Param #   \n",
      "=================================================================\n",
      "model_1 (Model)              (None, 7, 7, 512)         14714688  \n",
      "_________________________________________________________________\n",
      "flatten_1 (Flatten)          (None, 25088)             0         \n",
      "_________________________________________________________________\n",
      "dense_1 (Dense)              (None, 1024)              25691136  \n",
      "_________________________________________________________________\n",
      "dropout_1 (Dropout)          (None, 1024)              0         \n",
      "_________________________________________________________________\n",
      "dense_2 (Dense)              (None, 512)               524800    \n",
      "_________________________________________________________________\n",
      "dropout_2 (Dropout)          (None, 512)               0         \n",
      "_________________________________________________________________\n",
      "dense_3 (Dense)              (None, 256)               131328    \n",
      "_________________________________________________________________\n",
      "dropout_3 (Dropout)          (None, 256)               0         \n",
      "_________________________________________________________________\n",
      "dense_4 (Dense)              (None, 1)                 257       \n",
      "=================================================================\n",
      "Total params: 41,062,209\n",
      "Trainable params: 28,707,329\n",
      "Non-trainable params: 12,354,880\n",
      "_________________________________________________________________\n"
     ]
    }
   ],
   "source": [
    "\n",
    "my_model.summary()\n",
    "## If you are reloading the notebook and do not want to rerun the training process, set run_training = False\n",
    "run_training = False\n",
    "if run_training:\n",
    "    t_start = time.time()\n",
    "    history = my_model.fit(train_gen, \n",
    "                           validation_data = val_gen, \n",
    "                           epochs = 25,\n",
    "                           callbacks = callbacks_list)\n",
    "    t_finish = time.time()\n",
    "    print(f'Training took {t_start - t_finish} seconds')"
   ]
  },
  {
   "cell_type": "code",
   "execution_count": 37,
   "metadata": {},
   "outputs": [
    {
     "name": "stdout",
     "output_type": "stream",
     "text": [
      "next\n"
     ]
    }
   ],
   "source": [
    "print('next')"
   ]
  },
  {
   "cell_type": "markdown",
   "metadata": {},
   "source": [
    "##### After training for some time, look at the performance of your model by plotting some performance statistics:\n",
    "\n",
    "Note, these figures will come in handy for your FDA documentation later in the project"
   ]
  },
  {
   "cell_type": "code",
   "execution_count": 38,
   "metadata": {},
   "outputs": [
    {
     "name": "stdout",
     "output_type": "stream",
     "text": [
      "2/2 [==============================] - 6s 3s/step\n"
     ]
    }
   ],
   "source": [
    "## After training, make some predictions to assess your model's overall performance\n",
    "## Note that detecting pneumonia is hard even for trained expert radiologists, \n",
    "## so there is no need to make the model perfect.\n",
    "weight_path\n",
    "my_model.load_weights(weight_path)\n",
    "pred_Y = my_model.predict(valX, batch_size = 32, verbose = True)"
   ]
  },
  {
   "cell_type": "code",
   "execution_count": 39,
   "metadata": {},
   "outputs": [
    {
     "data": {
      "text/plain": [
       "array([[0.4767193],\n",
       "       [0.4767193]], dtype=float32)"
      ]
     },
     "execution_count": 39,
     "metadata": {},
     "output_type": "execute_result"
    }
   ],
   "source": [
    "pred_Y"
   ]
  },
  {
   "cell_type": "code",
   "execution_count": 40,
   "metadata": {},
   "outputs": [
    {
     "name": "stdout",
     "output_type": "stream",
     "text": [
      "Test Accuracy: 79.510\n"
     ]
    }
   ],
   "source": [
    "# evaluate model\n",
    "_, acc = my_model.evaluate_generator(val_gen, steps=len(val_gen), verbose=0)\n",
    "print('Test Accuracy: %.3f' % (acc * 100))"
   ]
  },
  {
   "cell_type": "code",
   "execution_count": 53,
   "metadata": {},
   "outputs": [],
   "source": [
    "def plot_auc(t_y, p_y):\n",
    "    \n",
    "    ## Hint: can use scikit-learn's built in functions here like roc_curve\n",
    "    # https://scikit-learn.org/stable/modules/generated/sklearn.metrics.auc.html\n",
    "    # Todo\n",
    "    fig, c_ax = plt.subplots(1,1, figsize = (5, 5))\n",
    "    fpr, tpr, thresholds = roc_curve(t_y, p_y)\n",
    "    c_ax.plot(fpr, tpr, label = '%s (AUC:%0.2f)'  % ('Pneumonia', auc(fpr, tpr)))\n",
    "    c_ax.legend(['Pneumonia (AUC: {:.3f})'.format(auc(fpr, tpr))], loc='lower right')\n",
    "    c_ax.set_xlabel('False Positive Rate')\n",
    "    c_ax.set_ylabel('True Positive Rate')\n",
    "    \n",
    "    return\n",
    "\n",
    "\n",
    "## what other performance statistics do you want to include here besides AUC? \n",
    "\n",
    "\n",
    "# def ... \n",
    "# Todo\n",
    "\n",
    "# def ...\n",
    "# Todo\n",
    "    \n",
    "#Also consider plotting the history of your model training:\n",
    "\n",
    "def plot_history(history):\n",
    "    fig, ax = plt.subplots(1,1, figsize = (10, 10))\n",
    "    ax.plot(history.history['binary_accuracy'], label='train_acc')\n",
    "    ax.plot(history.history['val_binary_accuracy'], label='val_acc')\n",
    "    ax.plot(history.history['loss'], label='train_loss')\n",
    "    ax.plot(history.history['val_loss'], label='val_loss')\n",
    "    #ax.title('model loss')\n",
    "    ax.title(\"Training Loss and Accuracy on Dataset\")\n",
    "    ax.set_ylabel('Loss')\n",
    "    ax.set_xlabel('Epoch')\n",
    "    ax.lengend(['train_acc', 'val_acc', 'train_loss', 'val_loss'], loc=\"lower right\")\n",
    "    return"
   ]
  },
  {
   "cell_type": "code",
   "execution_count": 54,
   "metadata": {},
   "outputs": [
    {
     "name": "stderr",
     "output_type": "stream",
     "text": [
      "/opt/conda/lib/python3.7/site-packages/sklearn/metrics/_ranking.py:800: UndefinedMetricWarning: No negative samples in y_true, false positive value should be meaningless\n",
      "  UndefinedMetricWarning)\n"
     ]
    },
    {
     "data": {
      "image/png": "[encoded data removed]",
      "text/plain": [
       "<Figure size 360x360 with 1 Axes>"
      ]
     },
     "metadata": {
      "needs_background": "light"
     },
     "output_type": "display_data"
    }
   ],
   "source": [
    "plot_auc(valY, pred_Y)"
   ]
  },
  {
   "cell_type": "code",
   "execution_count": 55,
   "metadata": {},
   "outputs": [
    {
     "ename": "NameError",
     "evalue": "name 'history' is not defined",
     "output_type": "error",
     "traceback": [
      "\u001b[0;31m---------------------------------------------------------------------------\u001b[0m",
      "\u001b[0;31mNameError\u001b[0m                                 Traceback (most recent call last)",
      "\u001b[0;32m<ipython-input-55-a8489d1127d4>\u001b[0m in \u001b[0;36m<module>\u001b[0;34m\u001b[0m\n\u001b[0;32m----> 1\u001b[0;31m \u001b[0mplot_history\u001b[0m\u001b[0;34m(\u001b[0m\u001b[0mhistory\u001b[0m\u001b[0;34m)\u001b[0m\u001b[0;34m\u001b[0m\u001b[0;34m\u001b[0m\u001b[0m\n\u001b[0m",
      "\u001b[0;31mNameError\u001b[0m: name 'history' is not defined"
     ]
    }
   ],
   "source": [
    "plot_history(history)"
   ]
  },
  {
   "cell_type": "code",
   "execution_count": null,
   "metadata": {},
   "outputs": [],
   "source": []
  },
  {
   "cell_type": "code",
   "execution_count": null,
   "metadata": {},
   "outputs": [],
   "source": [
    "## plot figures\n",
    "\n",
    "# Todo\n",
    "\n",
    "def plot_history(history, epoch):\n",
    "    plt.style.use('ggplot')\n",
    "    plt.figure(figsize=(12,12))\n",
    "    plt.style.use('ggplot')\n",
    "    plt.plot(range(epoch),history.history['loss'],label='Loss', color='green')\n",
    "    plt.plot(range(epoch),history.history['val_loss'],label='Validation_Loss', color = 'red')\n",
    "    plt.plot(range(epoch),history.history['binary_accuracy'],label='Binary_Accuracy',color='blue')\n",
    "    plt.plot(range(epoch),history.history['val_binary_accuracy'],label='Validation_Bin_Accuracy',color='purple')\n",
    "    plt.legend()\n",
    "    plt.xlabel('Epoch')\n",
    "    plt.ylabel('Loss/Accuracy')\n",
    "    plt.savefig('out/Model_Training_Performance')\n",
    "    plt.show()\n",
    "\n",
    "    return"
   ]
  },
  {
   "cell_type": "markdown",
   "metadata": {},
   "source": [
    "Once you feel you are done training, you'll need to decide the proper classification threshold that optimizes your model's performance for a given metric (e.g. accuracy, F1, precision, etc.  You decide) "
   ]
  },
  {
   "cell_type": "code",
   "execution_count": 43,
   "metadata": {},
   "outputs": [
    {
     "data": {
      "image/png": "[encoded data removed]",
      "text/plain": [
       "<Figure size 432x288 with 1 Axes>"
      ]
     },
     "metadata": {
      "needs_background": "light"
     },
     "output_type": "display_data"
    }
   ],
   "source": [
    "## Find the threshold that optimize your model's performance,\n",
    "## and use that threshold to make binary classification. Make sure you take all your metrics into consideration.\n",
    "\n",
    "# Todo\n",
    "def plot_pr(t_y, p_y):\n",
    "    fig, c_ax = plt.subplots(1,1)\n",
    "    precision, recall, thresholds = precision_recall_curve(t_y, p_y)\n",
    "    c_ax.plot(precision, recall, label = '%s (Avr Precision Score:%0.2f)'  % ('Pneumonia', average_precision_score(t_y,p_y)))\n",
    "    c_ax.legend()\n",
    "    c_ax.set_xlabel('Precision')\n",
    "    c_ax.set_ylabel('Recall')\n",
    "\n",
    "    return precision, recall, thresholds\n",
    "    \n",
    "\n",
    "precision, recall, thresholds = plot_pr(valY, pred_Y)"
   ]
  },
  {
   "cell_type": "code",
   "execution_count": 44,
   "metadata": {},
   "outputs": [],
   "source": [
    "def plot_precision_recall_curve(t_y, p_y):\n",
    "    precision, recall, thresholds = precision_recall_curve(t_y, p_y)\n",
    "    plt.plot(recall, precision , label='Pneumonia')\n",
    "    plt.ylabel('Precision')\n",
    "    plt.xlabel('Recall')\n",
    "    plt.title(\"Precision-Recall Curve\")\n",
    "    plt.legend(['Pneumonia'], loc='lower right')\n",
    "    plt.show()\n",
    "\n",
    "    return precision, recall, thresholds"
   ]
  },
  {
   "cell_type": "code",
   "execution_count": 45,
   "metadata": {},
   "outputs": [
    {
     "data": {
      "image/png": "[encoded data removed]",
      "text/plain": [
       "<Figure size 432x288 with 1 Axes>"
      ]
     },
     "metadata": {
      "needs_background": "light"
     },
     "output_type": "display_data"
    }
   ],
   "source": [
    "\n",
    "precision, recall, thresholds = plot_precision_recall_curve(valY, pred_Y)\n",
    "precision = np.array(precision)\n",
    "recall = np.array(recall)\n",
    "f1_score = 2 * (precision*recall)/(precision+recall)"
   ]
  },
  {
   "cell_type": "code",
   "execution_count": null,
   "metadata": {},
   "outputs": [],
   "source": []
  },
  {
   "cell_type": "code",
   "execution_count": 46,
   "metadata": {},
   "outputs": [
    {
     "ename": "NameError",
     "evalue": "name 'f1' is not defined",
     "output_type": "error",
     "traceback": [
      "\u001b[0;31m---------------------------------------------------------------------------\u001b[0m",
      "\u001b[0;31mNameError\u001b[0m                                 Traceback (most recent call last)",
      "\u001b[0;32m<ipython-input-46-fb9172142fd4>\u001b[0m in \u001b[0;36m<module>\u001b[0;34m\u001b[0m\n\u001b[1;32m      2\u001b[0m \u001b[0;31m## and use that threshold to make binary classification. Make sure you take all your metrics into consideration.\u001b[0m\u001b[0;34m\u001b[0m\u001b[0;34m\u001b[0m\u001b[0;34m\u001b[0m\u001b[0m\n\u001b[1;32m      3\u001b[0m \u001b[0;34m\u001b[0m\u001b[0m\n\u001b[0;32m----> 4\u001b[0;31m \u001b[0mmetric_df\u001b[0m \u001b[0;34m=\u001b[0m \u001b[0mpd\u001b[0m\u001b[0;34m.\u001b[0m\u001b[0mDataFrame\u001b[0m\u001b[0;34m(\u001b[0m\u001b[0;34m{\u001b[0m\u001b[0;34m'f1'\u001b[0m\u001b[0;34m:\u001b[0m\u001b[0mf1\u001b[0m\u001b[0;34m[\u001b[0m\u001b[0;34m:\u001b[0m\u001b[0;34m-\u001b[0m\u001b[0;36m1\u001b[0m\u001b[0;34m]\u001b[0m\u001b[0;34m,\u001b[0m \u001b[0;34m'prec'\u001b[0m\u001b[0;34m:\u001b[0m\u001b[0mprec\u001b[0m\u001b[0;34m[\u001b[0m\u001b[0;34m:\u001b[0m\u001b[0;34m-\u001b[0m\u001b[0;36m1\u001b[0m\u001b[0;34m]\u001b[0m\u001b[0;34m,\u001b[0m \u001b[0;34m'recall'\u001b[0m\u001b[0;34m:\u001b[0m\u001b[0mrecall\u001b[0m\u001b[0;34m[\u001b[0m\u001b[0;34m:\u001b[0m\u001b[0;34m-\u001b[0m\u001b[0;36m1\u001b[0m\u001b[0;34m]\u001b[0m\u001b[0;34m,\u001b[0m \u001b[0;34m'thresholds'\u001b[0m\u001b[0;34m:\u001b[0m\u001b[0mthresholds\u001b[0m\u001b[0;34m}\u001b[0m\u001b[0;34m)\u001b[0m\u001b[0;34m\u001b[0m\u001b[0;34m\u001b[0m\u001b[0m\n\u001b[0m",
      "\u001b[0;31mNameError\u001b[0m: name 'f1' is not defined"
     ]
    }
   ],
   "source": [
    "## Find the threshold that optimize your model's performance,\n",
    "## and use that threshold to make binary classification. Make sure you take all your metrics into consideration.\n",
    "\n",
    "metric_df = pd.DataFrame({'f1':f1[:-1], 'prec':prec[:-1], 'recall':recall[:-1], 'thresholds':thresholds})"
   ]
  },
  {
   "cell_type": "code",
   "execution_count": null,
   "metadata": {},
   "outputs": [],
   "source": [
    "metric_df"
   ]
  },
  {
   "cell_type": "code",
   "execution_count": null,
   "metadata": {},
   "outputs": [],
   "source": [
    "metric_df.plot(x ='thresholds', y='f1', kind = 'line')"
   ]
  },
  {
   "cell_type": "code",
   "execution_count": null,
   "metadata": {},
   "outputs": [],
   "source": [
    "precision = np.array(precision)\n",
    "recall = np.array(recall)\n",
    "f1_score = 2 * (precision*recall)/(precision+recall)\n",
    "\n",
    "def plot_score_thresholds(precision, recall, f1_score, thresholds):\n",
    "    plt.plot(thresholds, precision, label='Precision')\n",
    "    plt.plot(thresholds, recall, label ='Recall')\n",
    "    plt.plot(thresholds, f1_score, label = 'F1 score')\n",
    "    plt.xlabel('Thresholds')\n",
    "    plt.ylabel('Precision / Recall / F1')\n",
    "    plt.title(\"Precision / Recall / F1 and Thresholds\")\n",
    "    plt.legend(['Precision', 'Recall', 'F1 score'], loc='upper right')\n",
    "    plt.show()\n",
    "plot_score_thresholds(precision[:-1], recall[:-1], f1_score[:-1], thresholds)"
   ]
  },
  {
   "cell_type": "code",
   "execution_count": null,
   "metadata": {},
   "outputs": [],
   "source": [
    "print(\"Max F1 score: {}\".format(max(f1_score)))\n",
    "\n",
    "def calc_f1(t_y, p_y):\n",
    "    prec, recall, thresholds = precision_recall_curve(t_y, p_y)\n",
    "    return 2*(prec*recall)/(prec+recall), prec, recall, thresholds\n",
    "\n",
    "f1, prec, recall, thresholds = calc_f1(valY, pred_Y)\n",
    "\n",
    "metric_df = pd.DataFrame({'f1':f1[:-1], 'prec':prec[:-1], 'recall':recall[:-1], 'thresholds':thresholds})\n",
    "\n",
    "threshold = metric_df.iloc[metric_df['f1'].idxmax()]['thresholds']\n",
    "print('threshold corresponding to max f1:', threshold)"
   ]
  },
  {
   "cell_type": "code",
   "execution_count": null,
   "metadata": {},
   "outputs": [],
   "source": [
    "## Find the threshold that optimize your model's performance,\n",
    "## and use that threshold to make binary classification. Make sure you take all your metrics into consideration.\n",
    "\n",
    "max_f1 = max(f1_score)\n",
    "print(\"Max F1 Score: {}\".format(max_f1))\n",
    "threshold = thresholds[f1_score.argmax()]\n",
    "print(\"Threshold corresponding to max F1: {}\".format(threshold))"
   ]
  },
  {
   "cell_type": "code",
   "execution_count": null,
   "metadata": {},
   "outputs": [],
   "source": []
  },
  {
   "cell_type": "code",
   "execution_count": null,
   "metadata": {},
   "outputs": [],
   "source": [
    "testX, testY = val_gen.next()\n",
    "\n",
    "fig, m_axs = plt.subplots(10, 10, figsize = (16, 16))\n",
    "i = 0\n",
    "for (c_x, c_y, c_ax) in zip(testX[0:100], testY[0:100], m_axs.flatten()):\n",
    "    c_ax.imshow(c_x[:,:,0], cmap = 'bone')\n",
    "    if c_y == 1: \n",
    "        if pred_Y[i] > threshold:\n",
    "            c_ax.set_title('1, 1')\n",
    "        else:\n",
    "            c_ax.set_title('1, 0')\n",
    "    else:\n",
    "        if pred_Y[i] > threshold: \n",
    "            c_ax.set_title('0, 1')\n",
    "        else:\n",
    "            c_ax.set_title('0, 0')\n",
    "    c_ax.axis('off')\n",
    "    i=i+1"
   ]
  },
  {
   "cell_type": "code",
   "execution_count": null,
   "metadata": {},
   "outputs": [],
   "source": [
    "predicted_Y = [ 1 if x > 0.4 else 0 for x in pred_Y]"
   ]
  },
  {
   "cell_type": "code",
   "execution_count": null,
   "metadata": {},
   "outputs": [],
   "source": [
    "predicted_Y = [ 1 if x > 0.4 else 0 for x in pred_Y]\n",
    "precision = precision_score(valY, predicted_Y)\n",
    "print(\"Threshold of 0.4 is \",precision)"
   ]
  },
  {
   "cell_type": "code",
   "execution_count": null,
   "metadata": {},
   "outputs": [],
   "source": [
    "from sklearn.metrics import f1_score\n",
    "predicted_Y = [ 1 if x > 0.53 else 0 for x in pred_Y]\n",
    "f1score = f1_score(valY, predicted_Y, average='weighted')\n",
    "print(f1score)"
   ]
  },
  {
   "cell_type": "code",
   "execution_count": null,
   "metadata": {},
   "outputs": [],
   "source": []
  },
  {
   "cell_type": "code",
   "execution_count": null,
   "metadata": {},
   "outputs": [],
   "source": [
    "## Let's look at some examples of true vs. predicted with our best model: \n",
    "\n",
    "# Todo\n",
    "\n",
    "# fig, m_axs = plt.subplots(10, 10, figsize = (16, 16))\n",
    "# i = 0\n",
    "# for (c_x, c_y, c_ax) in zip(valX[0:100], testY[0:100], m_axs.flatten()):\n",
    "#     c_ax.imshow(c_x[:,:,0], cmap = 'bone')\n",
    "#     if c_y == 1: \n",
    "#         if pred_Y[i] > YOUR_THRESHOLD:\n",
    "#             c_ax.set_title('1, 1')\n",
    "#         else:\n",
    "#             c_ax.set_title('1, 0')\n",
    "#     else:\n",
    "#         if pred_Y[i] > YOUR_THRESHOLD: \n",
    "#             c_ax.set_title('0, 1')\n",
    "#         else:\n",
    "#             c_ax.set_title('0, 0')\n",
    "#     c_ax.axis('off')\n",
    "#     i=i+1"
   ]
  },
  {
   "cell_type": "code",
   "execution_count": null,
   "metadata": {},
   "outputs": [],
   "source": [
    "## Let's look at some examples of true vs. predicted with our best model: \n",
    "\n",
    "# Todo\n",
    "optimal_model_threshold = 0.53\n",
    "fig, m_axs = plt.subplots(10, 10, figsize = (16, 16))\n",
    "i = 0\n",
    "for (c_x, c_y, c_ax) in zip(valX_newset[0:100], valY_newset[0:100], m_axs.flatten()):\n",
    "    c_ax.imshow(c_x[:,:,0], cmap = 'bone')\n",
    "    if c_y == 1: \n",
    "        if pred_Y_newset[i] > optimal_model_threshold:\n",
    "            c_ax.set_title('1, 1')\n",
    "        else:\n",
    "             c_ax.set_title('1, 0')\n",
    "    else:\n",
    "        if pred_Y_newset[i] > optimal_model_threshold: \n",
    "                 c_ax.set_title('0, 1')\n",
    "        else:\n",
    "                 c_ax.set_title('0, 0')\n",
    "        c_ax.axis('off')\n",
    "        i=i+1"
   ]
  },
  {
   "cell_type": "code",
   "execution_count": null,
   "metadata": {},
   "outputs": [],
   "source": [
    "## Just save model architecture to a .json:\n",
    "\n",
    "model_json = my_model.to_json()\n",
    "print(model_json)\n",
    "with open(\"my_model.json\", \"w\") as json_file:\n",
    "    json_file.write(model_json)"
   ]
  },
  {
   "cell_type": "code",
   "execution_count": null,
   "metadata": {},
   "outputs": [],
   "source": []
  },
  {
   "cell_type": "code",
   "execution_count": null,
   "metadata": {},
   "outputs": [],
   "source": []
  },
  {
   "cell_type": "code",
   "execution_count": null,
   "metadata": {},
   "outputs": [],
   "source": [
    "train_idg = ImageDataGenerator(rescale=1. / 255.0,\n",
    "                              horizontal_flip = False, \n",
    "                              vertical_flip = False, \n",
    "                              height_shift_range = 0.1, \n",
    "                              width_shift_range = 0.1, \n",
    "                              rotation_range = 3, \n",
    "                              shear_range = 0.1,\n",
    "                              zoom_range=0.1,\n",
    "                              fill_mode='nearest',\n",
    "                              brightness_range=[0.9,1.1])"
   ]
  },
  {
   "cell_type": "code",
   "execution_count": null,
   "metadata": {},
   "outputs": [],
   "source": [
    "val_test_idg = ImageDataGenerator(rescale=1. / 255.)"
   ]
  },
  {
   "cell_type": "code",
   "execution_count": null,
   "metadata": {},
   "outputs": [],
   "source": [
    "test_gen = val_test_idg.flow_from_dataframe(dataframe=train_data, \n",
    "                                         directory=None, \n",
    "                                         x_col = 'path',\n",
    "                                         y_col = 'Pneumonia',\n",
    "                                         class_mode = 'raw',\n",
    "                                         target_size = (224, 224), \n",
    "                                         batch_size = 465,\n",
    "                                         seed=1000)"
   ]
  },
  {
   "cell_type": "code",
   "execution_count": null,
   "metadata": {},
   "outputs": [],
   "source": [
    "testX, testY = test_gen.next()"
   ]
  },
  {
   "cell_type": "code",
   "execution_count": null,
   "metadata": {},
   "outputs": [],
   "source": []
  },
  {
   "cell_type": "code",
   "execution_count": null,
   "metadata": {},
   "outputs": [],
   "source": [
    "fig, m_axs = plt.subplots(4, 4,  figsize=(16, 16))\n",
    "\n",
    "random_indexes = [random.randint(0, len(testX)) for i in range(16)]\n",
    "\n",
    "for index, ax in zip(random_indexes, m_axs.flatten()):\n",
    "    \n",
    "    # Image description \n",
    "    prediction = y_pred[index][0]\n",
    "    \n",
    "    if (prediction > thresh) == bool(testY[index]):\n",
    "        color = 'k'\n",
    "    else:\n",
    "        color = 'r'\n",
    "        \n",
    "    ax.set_title(f'Label: {testY[index]:.0f}, Prediction: {prediction:.2f}', color=color)\n",
    "    \n",
    "    # Grad-Cam\n",
    "    last_conv = model.get_layer('block5_conv3')\n",
    "    grads = K.gradients(model.output, last_conv.output)[0]\n",
    "    pooled_grads = K.mean(grads, axis=(0,1,2))\n",
    "    iterate = K.function([model.input], [pooled_grads, last_conv.output[0]])\n",
    "    test_preprocessed = np.expand_dims(testX[index] ,axis=0)\n",
    "    pooled_grads_value, conv_layer_output = iterate([test_preprocessed])\n",
    "\n",
    "    for i in range(224):\n",
    "        conv_layer_output[:,:,i] *= pooled_grads_value[i]\n",
    "    heatmap = np.mean(conv_layer_output,axis=-1)\n",
    "\n",
    "    # Apply ReLU function\n",
    "    for x in range(heatmap.shape[0]):\n",
    "        for y in range(heatmap.shape[1]):\n",
    "            heatmap[x,y] = np.max(heatmap[x,y],0)\n",
    "\n",
    "    # Standardize\n",
    "    heatmap = np.maximum(heatmap, 0)\n",
    "    heatmap /= np.max(heatmap)\n",
    "    \n",
    "    # Plot \n",
    "    upsample = resize(heatmap, (224, 224), preserve_range=True)\n",
    "    ax.imshow(testX[index][:,:,0], cmap='bone')\n",
    "    ax.imshow(upsample, alpha=0.5)\n",
    "    ax.axis('off')"
   ]
  }
 ],
 "metadata": {
  "kernelspec": {
   "display_name": "Python 3",
   "language": "python",
   "name": "python3"
  },
  "language_info": {
   "codemirror_mode": {
    "name": "ipython",
    "version": 3
   },
   "file_extension": ".py",
   "mimetype": "text/x-python",
   "name": "python",
   "nbconvert_exporter": "python",
   "pygments_lexer": "ipython3",
   "version": "3.7.6"
  }
 },
 "nbformat": 4,
 "nbformat_minor": 4
}
